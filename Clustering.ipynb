{
 "cells": [
  {
   "cell_type": "code",
   "execution_count": 223,
   "id": "0050839d",
   "metadata": {},
   "outputs": [],
   "source": [
    "import pandas as pd\n",
    "import numpy as np\n",
    "import matplotlib.pyplot as plt\n",
    "from sklearn import datasets\n",
    "import seaborn as sns\n",
    "import sklearn.cluster as cluster\n",
    "import sklearn.metrics as metrics\n",
    "import sklearn.preprocessing\n",
    "import scipy.cluster.hierarchy as sch\n",
    "import pylab\n",
    "import sklearn.mixture as mixture\n",
    "import pyclustertend \n",
    "import random\n",
    "\n",
    "from mpl_toolkits.mplot3d import Axes3D\n",
    "plt.rcParams['figure.figsize'] = (16, 9)\n",
    "plt.style.use('ggplot')"
   ]
  },
  {
   "cell_type": "code",
   "execution_count": null,
   "id": "fabbf422",
   "metadata": {},
   "outputs": [],
   "source": [
    "deaths=pd.read_csv(\"final.csv\")\n",
    "deaths.drop(['id'],1).hist()\n",
    "plt.show()"
   ]
  },
  {
   "cell_type": "markdown",
   "id": "73711979",
   "metadata": {},
   "source": [
    "## Analizando la tendencia al agrupamiento usando el estadístico de Hopkings"
   ]
  },
  {
   "cell_type": "code",
   "execution_count": 226,
   "id": "ce9e8daa",
   "metadata": {},
   "outputs": [],
   "source": [
    "MD = datos[['budget','revenue','runtime', 'popularity', 'voteAvg', 'voteCount', 'genresAmount', 'productionCoAmount', 'productionCountriesAmount', 'actorsAmount']].sample(5000)\n",
    "\n",
    "Y = np.array(datos[['id']])\n",
    "\n",
    "CN = MD.columns.values\n",
    "\n",
    "fig = plt.figure()\n",
    "g = 0\n",
    "for i in CN:\n",
    "\tplt.subplot(5,3,g+1)\n",
    "\tsns.boxplot(MD[i])\n",
    "\tplt.xlabel(i)\n",
    "\tg += 1\n",
    "plt.show()"
   ]
  },
  {
   "cell_type": "code",
   "execution_count": null,
   "id": "c202ee33",
   "metadata": {},
   "outputs": [],
   "source": [
    "#X = X.random.seed(10000)\n",
    "print(X.shape)\n",
    "X_scale=sklearn.preprocessing.scale(X)\n",
    "pyclustertend.hopkins(X,len(X))"
   ]
  },
  {
   "cell_type": "markdown",
   "id": "d6f39f64",
   "metadata": {},
   "source": [
    "##### Nótese que el estadístico de Hopkings se encuentra muy lejano a 0.5, por lo que sí es factible hacer agrupamiento."
   ]
  },
  {
   "cell_type": "markdown",
   "id": "4be5167b",
   "metadata": {},
   "source": [
    "## Analice la tendencia al agrupamiento usando el estadístico VAT (Visual Assessment of cluster Tendency)"
   ]
  },
  {
   "cell_type": "code",
   "execution_count": null,
   "id": "eb88d97b",
   "metadata": {},
   "outputs": [],
   "source": [
    "pyclustertend.vat(X_scale)\n",
    "pyclustertend.vat(X)"
   ]
  },
  {
   "cell_type": "markdown",
   "id": "316b99a7",
   "metadata": {},
   "source": [
    "## Determinando cuál es el número de grupos a formar más adecuado para los datos que está trabajando. "
   ]
  },
  {
   "cell_type": "code",
   "execution_count": null,
   "id": "1ce030e9",
   "metadata": {},
   "outputs": [],
   "source": [
    "numeroClusters = range(1,11)\n",
    "wcss = []\n",
    "for i in numeroClusters:\n",
    "    kmeans = cluster.KMeans(n_clusters=i)\n",
    "    kmeans.fit(X)\n",
    "    wcss.append(kmeans.inertia_)\n",
    "\n",
    "plt.plot(numeroClusters, wcss)\n",
    "plt.xlabel(\"Número de clusters\")\n",
    "plt.ylabel(\"Puntuación\")\n",
    "plt.title(\"Gráfico de Codo\")\n",
    "plt.show()"
   ]
  },
  {
   "cell_type": "markdown",
   "id": "109bea2b",
   "metadata": {},
   "source": [
    "## Gráfica de codo"
   ]
  },
  {
   "cell_type": "code",
   "execution_count": null,
   "id": "4ae84c60",
   "metadata": {},
   "outputs": [],
   "source": [
    "from sklearn.datasets import make_blobs\n",
    "from sklearn.cluster import KMeans\n",
    "from sklearn.metrics import silhouette_samples, silhouette_score\n",
    "import matplotlib.cm as cm\n",
    "\n",
    "rango_n_clusters = [2]\n",
    "\n",
    "for n_clusters in rango_n_clusters:\n",
    "    fig, (ax1, ax2) = plt.subplots(1, 2)\n",
    "    fig.set_size_inches(18, 7)\n",
    "    ax1.set_xlim([-0.1, 1])\n",
    "    ax1.set_ylim([0, len(X) + (n_clusters + 1) * 10])\n",
    "    clusterer = KMeans(n_clusters=n_clusters, random_state=10)\n",
    "    cluster_labels = clusterer.fit_predict(X)\n",
    "    silhouette_avg = silhouette_score(X, cluster_labels)\n",
    "    print(\n",
    "        \"For n_clusters =\",\n",
    "        n_clusters,\n",
    "        \"The average silhouette_score is :\",\n",
    "        silhouette_avg,\n",
    "    )\n",
    "\n",
    "    sample_silhouette_values = silhouette_samples(X, cluster_labels)\n",
    "\n",
    "    y_lower = 10\n",
    "    for i in range(n_clusters):\n",
    "        ith_cluster_silhouette_values = sample_silhouette_values[cluster_labels == i]\n",
    "        ith_cluster_silhouette_values.sort()\n",
    "        size_cluster_i = ith_cluster_silhouette_values.shape[0]\n",
    "        y_upper = y_lower + size_cluster_i\n",
    "        color = cm.nipy_spectral(float(i) / n_clusters)\n",
    "        ax1.fill_betweenx(\n",
    "            np.arange(y_lower, y_upper),\n",
    "            0,\n",
    "            ith_cluster_silhouette_values,\n",
    "            facecolor=color,\n",
    "            edgecolor=color,\n",
    "            alpha=0.7,\n",
    "        )\n",
    "        ax1.text(-0.05, y_lower + 0.5 * size_cluster_i, str(i))\n",
    "        y_lower = y_upper + 10  # 10 for the 0 samples\n",
    "\n",
    "    ax1.set_title(\"The silhouette plot for the various clusters.\")\n",
    "    ax1.set_xlabel(\"The silhouette coefficient values\")\n",
    "    ax1.set_ylabel(\"Cluster label\")\n",
    "    ax1.axvline(x=silhouette_avg, color=\"red\", linestyle=\"--\")\n",
    "    ax1.set_yticks([])  # Clear the yaxis labels / ticks\n",
    "    ax1.set_xticks([-0.1, 0, 0.2, 0.4, 0.6, 0.8, 1])\n",
    "    colors = cm.nipy_spectral(cluster_labels.astype(float) / n_clusters)\n",
    "    ax2.scatter(\n",
    "        X[:, 0], X[:, 1], marker=\".\", s=30, lw=0, alpha=0.7, c=colors, edgecolor=\"k\"\n",
    "    )\n",
    "    centers = clusterer.cluster_centers_\n",
    "    ax2.scatter(\n",
    "        centers[:, 0],\n",
    "        centers[:, 1],\n",
    "        marker=\"o\",\n",
    "        c=\"white\",\n",
    "        alpha=1,\n",
    "        s=200,\n",
    "        edgecolor=\"k\",\n",
    "    )\n",
    "\n",
    "    for i, c in enumerate(centers):\n",
    "        ax2.scatter(c[0], c[1], marker=\"$%d$\" % i, alpha=1, s=50, edgecolor=\"k\")\n",
    "\n",
    "    ax2.set_title(\"The visualization of the clustered data.\")\n",
    "    ax2.set_xlabel(\"Feature space for the 1st feature\")\n",
    "    ax2.set_ylabel(\"Feature space for the 2nd feature\")\n",
    "\n",
    "    plt.suptitle(\n",
    "        \"Silhouette analysis for KMeans clustering on sample data with n_clusters = %d\"\n",
    "        % n_clusters,\n",
    "        fontsize=14,\n",
    "        fontweight=\"bold\",\n",
    "    )\n",
    "\n",
    "plt.show()"
   ]
  },
  {
   "cell_type": "code",
   "execution_count": null,
   "id": "7d364b38",
   "metadata": {},
   "outputs": [],
   "source": [
    "import numpy as np\n",
    "import pandas as pd\n",
    "import matplotlib.pyplot as plt\n",
    "import seaborn as sns\n",
    "from sklearn.cluster import KMeans, MeanShift, estimate_bandwidth\n",
    "from sklearn.preprocessing import StandardScaler, PowerTransformer\n",
    "from sklearn.metrics import silhouette_score\n",
    "from sklearn.model_selection import train_test_split\n",
    "from kmodes.kprototypes import KPrototypes\n",
    "from yellowbrick.cluster import KElbowVisualizer, SilhouetteVisualizer, InterclusterDistance\n",
    "from kneed import KneeLocator\n",
    "from sklearn.decomposition import PCA\n",
    "from tqdm import tqdm\n",
    "import sys\n",
    "import warnings\n",
    "warnings.filterwarnings(\"ignore\")\n",
    "\n",
    "nK = 12    \n",
    "RNDN = 42    \n",
    "def elbowplot(df, elbowmetric, model):\n",
    "    print(\"Elbow Score Plot (\" + str(elbowmetric) + \" metric):\")\n",
    "    vis = KElbowVisualizer(\n",
    "        model, \n",
    "        k=(2,nK), \n",
    "        metric=elbowmetric,\n",
    "        locate_elbow=True, \n",
    "        timings=False)\n",
    "    vis.fit(df)      \n",
    "    print(\"elbow value = optimal k:\", f'{vis.elbow_value_:.0f}', \\\n",
    "            \" | elbow score:\", f'{vis.elbow_score_:,.3f}')\n",
    "    vis.show()  \n",
    "\n",
    "model = KMeans(random_state=RNDN)\n",
    "_ = [elbowplot(X, m, model) for m in tqdm([\"distortion\", \"silhouette\", \"calinski_harabasz\"])]  "
   ]
  },
  {
   "cell_type": "markdown",
   "id": "8524be70",
   "metadata": {},
   "source": [
    "# KMedias"
   ]
  },
  {
   "cell_type": "markdown",
   "id": "2549d6ba",
   "metadata": {},
   "source": [
    "### 2 Dimensiones"
   ]
  },
  {
   "cell_type": "code",
   "execution_count": null,
   "id": "ed81533c",
   "metadata": {},
   "outputs": [],
   "source": [
    "km = cluster.KMeans(n_clusters=2).fit(X)\n",
    "centroides = km.cluster_centers_\n",
    "print(centroides)\n",
    "movies = km.predict(X)\n",
    "plt.scatter(X[movies == 0, 0], X[movies == 0, 1],s=100,c='red', label = \"Cluster 1\")\n",
    "plt.scatter(X[movies == 1, 0], X[movies == 1, 1],s=100,c='blue', label = \"Cluster 2\")\n",
    "#plt.scatter(X[movies == 2, 0], X[movies == 2, 1],s=100,c='green', label = \"Cluster 3\")\n",
    "plt.scatter(km.cluster_centers_[:,0],km.cluster_centers_[:,1], s=300, c=\"yellow\",marker=\"*\", label=\"Centroides\")\n",
    "plt.title(\"Grupos de Películas\")\n",
    "plt.xlabel(\"\")\n",
    "plt.ylabel(\"\")\n",
    "plt.legend()"
   ]
  },
  {
   "cell_type": "markdown",
   "id": "a9437ff2",
   "metadata": {},
   "source": [
    " ## Clustering Jerárquico"
   ]
  },
  {
   "cell_type": "code",
   "execution_count": null,
   "id": "32f6ef0e",
   "metadata": {},
   "outputs": [],
   "source": [
    "dendograma = sch.dendrogram(sch.linkage(X, method='ward'))\n",
    "hc = cluster.AgglomerativeClustering(n_clusters=2,affinity='euclidean',linkage='ward')\n",
    "movieHC = hc.fit_predict(X)\n",
    "movieHC\n",
    "X"
   ]
  },
  {
   "cell_type": "markdown",
   "id": "4b881d65",
   "metadata": {},
   "source": [
    "# Fuzzy C-Means"
   ]
  },
  {
   "cell_type": "code",
   "execution_count": null,
   "id": "0449467b",
   "metadata": {},
   "outputs": [],
   "source": [
    "# pip install -U scikit-fuzzy\n",
    "# pip install fuzzy-c-means\n",
    "import numpy as np\n",
    "from fcmeans import FCM # is inside the fuzzy-c-means installation\n",
    "from matplotlib import pyplot as plt\n",
    "\n",
    "fcm = FCM(n_clusters=2)\n",
    "fcm.fit(X)\n",
    "\n",
    "# outputs\n",
    "fcm_centers = fcm.centers\n",
    "fcm_labels = fcm.predict(X)\n",
    "\n",
    "# plot result\n",
    "# f, axes = plt.subplots(1, 2, figsize=(11,5))\n",
    "# axes[0].scatter(X[:,0], X[:,1], alpha=.1)\n",
    "# axes[1].scatter(X[:,0], X[:,1], c=fcm_labels, alpha=.1)\n",
    "# axes[1].scatter(fcm_centers[:,0], fcm_centers[:,1], marker=\"+\", s=500, c='w')\n",
    "# plt.show()\n",
    "\n",
    "plt.scatter(X[:, 0], X[:, 1], c=fcm_labels, s=40,cmap=\"viridis\");"
   ]
  }
 ],
 "metadata": {
  "kernelspec": {
   "display_name": "Python 3 (ipykernel)",
   "language": "python",
   "name": "python3"
  },
  "language_info": {
   "codemirror_mode": {
    "name": "ipython",
    "version": 3
   },
   "file_extension": ".py",
   "mimetype": "text/x-python",
   "name": "python",
   "nbconvert_exporter": "python",
   "pygments_lexer": "ipython3",
   "version": "3.9.7"
  }
 },
 "nbformat": 4,
 "nbformat_minor": 5
}
