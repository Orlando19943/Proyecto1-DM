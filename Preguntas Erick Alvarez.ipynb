{
 "cells": [
  {
   "cell_type": "code",
   "execution_count": 1,
   "id": "5d889286",
   "metadata": {},
   "outputs": [],
   "source": [
    "import numpy as np\n",
    "import pandas as pd\n",
    "import matplotlib\n",
    "import matplotlib.pyplot as plt\n",
    "import scipy.stats as stats\n",
    "import statsmodels.stats.diagnostic as diag\n",
    "import statsmodels.api as sm"
   ]
  },
  {
   "cell_type": "code",
   "execution_count": 3,
   "id": "05781cd7",
   "metadata": {},
   "outputs": [],
   "source": [
    "deaths=pd.read_csv(\"final.csv\")"
   ]
  },
  {
   "cell_type": "code",
   "execution_count": 4,
   "id": "04c971fe",
   "metadata": {},
   "outputs": [
    {
     "data": {
      "text/plain": [
       "(809296, 30)"
      ]
     },
     "execution_count": 4,
     "metadata": {},
     "output_type": "execute_result"
    }
   ],
   "source": [
    "deaths.shape"
   ]
  },
  {
   "cell_type": "code",
   "execution_count": 5,
   "id": "b29caf5f",
   "metadata": {},
   "outputs": [
    {
     "data": {
      "text/plain": [
       "Index(['Unnamed: 0', 'Depreg', 'Mupreg', 'Mesreg', 'Añoreg', 'Depocu',\n",
       "       'Mupocu', 'Areag', 'Sexo', 'Diaocu', 'Mesocu', 'Añoocu', 'Edadif',\n",
       "       'Perdif', 'Puedif', 'Ecidif', 'Escodif', 'Ciuodif', 'Pnadif', 'Dnadif',\n",
       "       'Mnadif', 'Nacdif', 'Predif', 'Dredif', 'Mredif', 'Caudef',\n",
       "       'caudef.descrip', 'Asist', 'Ocur', 'Cerdef'],\n",
       "      dtype='object')"
      ]
     },
     "execution_count": 5,
     "metadata": {},
     "output_type": "execute_result"
    }
   ],
   "source": [
    "deaths.columns"
   ]
  },
  {
   "cell_type": "markdown",
   "id": "ec129bea",
   "metadata": {},
   "source": [
    "## ¿En qué años se han dado la mayor cantidad de defunciones?"
   ]
  },
  {
   "cell_type": "code",
   "execution_count": 7,
   "id": "8274f2e2",
   "metadata": {},
   "outputs": [
    {
     "data": {
      "text/html": [
       "<div>\n",
       "<style scoped>\n",
       "    .dataframe tbody tr th:only-of-type {\n",
       "        vertical-align: middle;\n",
       "    }\n",
       "\n",
       "    .dataframe tbody tr th {\n",
       "        vertical-align: top;\n",
       "    }\n",
       "\n",
       "    .dataframe thead th {\n",
       "        text-align: right;\n",
       "    }\n",
       "</style>\n",
       "<table border=\"1\" class=\"dataframe\">\n",
       "  <thead>\n",
       "    <tr style=\"text-align: right;\">\n",
       "      <th></th>\n",
       "      <th>Añoreg</th>\n",
       "    </tr>\n",
       "  </thead>\n",
       "  <tbody>\n",
       "    <tr>\n",
       "      <th>2020</th>\n",
       "      <td>95100</td>\n",
       "    </tr>\n",
       "    <tr>\n",
       "      <th>2019</th>\n",
       "      <td>85476</td>\n",
       "    </tr>\n",
       "    <tr>\n",
       "      <th>2018</th>\n",
       "      <td>82755</td>\n",
       "    </tr>\n",
       "    <tr>\n",
       "      <th>2016</th>\n",
       "      <td>82420</td>\n",
       "    </tr>\n",
       "    <tr>\n",
       "      <th>2017</th>\n",
       "      <td>81475</td>\n",
       "    </tr>\n",
       "    <tr>\n",
       "      <th>2015</th>\n",
       "      <td>81040</td>\n",
       "    </tr>\n",
       "    <tr>\n",
       "      <th>2014</th>\n",
       "      <td>77582</td>\n",
       "    </tr>\n",
       "    <tr>\n",
       "      <th>2013</th>\n",
       "      <td>76618</td>\n",
       "    </tr>\n",
       "    <tr>\n",
       "      <th>2012</th>\n",
       "      <td>72115</td>\n",
       "    </tr>\n",
       "    <tr>\n",
       "      <th>2011</th>\n",
       "      <td>71144</td>\n",
       "    </tr>\n",
       "    <tr>\n",
       "      <th>2021</th>\n",
       "      <td>3571</td>\n",
       "    </tr>\n",
       "  </tbody>\n",
       "</table>\n",
       "</div>"
      ],
      "text/plain": [
       "      Añoreg\n",
       "2020   95100\n",
       "2019   85476\n",
       "2018   82755\n",
       "2016   82420\n",
       "2017   81475\n",
       "2015   81040\n",
       "2014   77582\n",
       "2013   76618\n",
       "2012   72115\n",
       "2011   71144\n",
       "2021    3571"
      ]
     },
     "execution_count": 7,
     "metadata": {},
     "output_type": "execute_result"
    }
   ],
   "source": [
    "años = deaths[\"Añoreg\"].value_counts().to_frame()\n",
    "años"
   ]
  },
  {
   "cell_type": "markdown",
   "id": "ae84a2ae",
   "metadata": {},
   "source": [
    "#### La mayor cantidad de muertes se dió en el 2020. Podríamos relacionarlo al inicio de la Pandemia, puesto que hubo un aumento a comparación del 2019 de 9,624 muertes"
   ]
  },
  {
   "cell_type": "markdown",
   "id": "2acaaee1",
   "metadata": {},
   "source": [
    "## ¿En qué departamento se han dado la mayor cantidad de defunciones?"
   ]
  },
  {
   "cell_type": "code",
   "execution_count": 8,
   "id": "a5c96b38",
   "metadata": {},
   "outputs": [
    {
     "data": {
      "text/html": [
       "<div>\n",
       "<style scoped>\n",
       "    .dataframe tbody tr th:only-of-type {\n",
       "        vertical-align: middle;\n",
       "    }\n",
       "\n",
       "    .dataframe tbody tr th {\n",
       "        vertical-align: top;\n",
       "    }\n",
       "\n",
       "    .dataframe thead th {\n",
       "        text-align: right;\n",
       "    }\n",
       "</style>\n",
       "<table border=\"1\" class=\"dataframe\">\n",
       "  <thead>\n",
       "    <tr style=\"text-align: right;\">\n",
       "      <th></th>\n",
       "      <th>Depreg</th>\n",
       "    </tr>\n",
       "  </thead>\n",
       "  <tbody>\n",
       "    <tr>\n",
       "      <th>Guatemala</th>\n",
       "      <td>238866</td>\n",
       "    </tr>\n",
       "    <tr>\n",
       "      <th>Quetzaltenango</th>\n",
       "      <td>49558</td>\n",
       "    </tr>\n",
       "    <tr>\n",
       "      <th>Alta Verapaz</th>\n",
       "      <td>49071</td>\n",
       "    </tr>\n",
       "    <tr>\n",
       "      <th>San Marcos</th>\n",
       "      <td>47997</td>\n",
       "    </tr>\n",
       "    <tr>\n",
       "      <th>Escuintla</th>\n",
       "      <td>46155</td>\n",
       "    </tr>\n",
       "    <tr>\n",
       "      <th>Huehuetenango</th>\n",
       "      <td>45374</td>\n",
       "    </tr>\n",
       "    <tr>\n",
       "      <th>Quiché</th>\n",
       "      <td>32499</td>\n",
       "    </tr>\n",
       "    <tr>\n",
       "      <th>Suchitepequez</th>\n",
       "      <td>30460</td>\n",
       "    </tr>\n",
       "    <tr>\n",
       "      <th>Chimaltenango</th>\n",
       "      <td>28316</td>\n",
       "    </tr>\n",
       "    <tr>\n",
       "      <th>Jutiapa</th>\n",
       "      <td>24779</td>\n",
       "    </tr>\n",
       "    <tr>\n",
       "      <th>Santa Rosa</th>\n",
       "      <td>22106</td>\n",
       "    </tr>\n",
       "    <tr>\n",
       "      <th>Chiquimula</th>\n",
       "      <td>20496</td>\n",
       "    </tr>\n",
       "    <tr>\n",
       "      <th>Izabal</th>\n",
       "      <td>19278</td>\n",
       "    </tr>\n",
       "    <tr>\n",
       "      <th>Totonicapán</th>\n",
       "      <td>19217</td>\n",
       "    </tr>\n",
       "    <tr>\n",
       "      <th>Retalhuleu</th>\n",
       "      <td>17160</td>\n",
       "    </tr>\n",
       "    <tr>\n",
       "      <th>Petén</th>\n",
       "      <td>16743</td>\n",
       "    </tr>\n",
       "    <tr>\n",
       "      <th>Jalapa</th>\n",
       "      <td>16041</td>\n",
       "    </tr>\n",
       "    <tr>\n",
       "      <th>Sololá</th>\n",
       "      <td>15280</td>\n",
       "    </tr>\n",
       "    <tr>\n",
       "      <th>Zacapa</th>\n",
       "      <td>14402</td>\n",
       "    </tr>\n",
       "    <tr>\n",
       "      <th>Sacatepéquez</th>\n",
       "      <td>13716</td>\n",
       "    </tr>\n",
       "    <tr>\n",
       "      <th>Baja Verapaz</th>\n",
       "      <td>12056</td>\n",
       "    </tr>\n",
       "    <tr>\n",
       "      <th>El Progreso</th>\n",
       "      <td>8385</td>\n",
       "    </tr>\n",
       "    <tr>\n",
       "      <th>Quiche</th>\n",
       "      <td>7402</td>\n",
       "    </tr>\n",
       "    <tr>\n",
       "      <th>Totonicapan</th>\n",
       "      <td>4419</td>\n",
       "    </tr>\n",
       "    <tr>\n",
       "      <th>Peten</th>\n",
       "      <td>3415</td>\n",
       "    </tr>\n",
       "    <tr>\n",
       "      <th>Sacatepequez</th>\n",
       "      <td>3055</td>\n",
       "    </tr>\n",
       "    <tr>\n",
       "      <th>Solola</th>\n",
       "      <td>3050</td>\n",
       "    </tr>\n",
       "  </tbody>\n",
       "</table>\n",
       "</div>"
      ],
      "text/plain": [
       "                Depreg\n",
       "Guatemala       238866\n",
       "Quetzaltenango   49558\n",
       "Alta Verapaz     49071\n",
       "San Marcos       47997\n",
       "Escuintla        46155\n",
       "Huehuetenango    45374\n",
       "Quiché           32499\n",
       "Suchitepequez    30460\n",
       "Chimaltenango    28316\n",
       "Jutiapa          24779\n",
       "Santa Rosa       22106\n",
       "Chiquimula       20496\n",
       "Izabal           19278\n",
       "Totonicapán      19217\n",
       "Retalhuleu       17160\n",
       "Petén            16743\n",
       "Jalapa           16041\n",
       "Sololá           15280\n",
       "Zacapa           14402\n",
       "Sacatepéquez     13716\n",
       "Baja Verapaz     12056\n",
       "El Progreso       8385\n",
       "Quiche            7402\n",
       "Totonicapan       4419\n",
       "Peten             3415\n",
       "Sacatepequez      3055\n",
       "Solola            3050"
      ]
     },
     "execution_count": 8,
     "metadata": {},
     "output_type": "execute_result"
    }
   ],
   "source": [
    "dpto = deaths[\"Depreg\"].value_counts().to_frame()\n",
    "dpto"
   ]
  },
  {
   "cell_type": "code",
   "execution_count": 9,
   "id": "b15b2d6a",
   "metadata": {},
   "outputs": [
    {
     "data": {
      "text/plain": [
       "<AxesSubplot:>"
      ]
     },
     "execution_count": 9,
     "metadata": {},
     "output_type": "execute_result"
    },
    {
     "data": {
      "image/png": "[encoded data removed]",
      "text/plain": [
       "<Figure size 432x288 with 1 Axes>"
      ]
     },
     "metadata": {
      "needs_background": "light"
     },
     "output_type": "display_data"
    }
   ],
   "source": [
    "dpto.plot(kind = \"bar\")"
   ]
  },
  {
   "cell_type": "markdown",
   "id": "6b8af06c",
   "metadata": {},
   "source": [
    "#### Guatemala presenta la mayor cantidad de muertes registradas. Esto era de esperarse puesto que la densidad poblacional es mucho mayor en comparación con los demás departamentos. Luego le sigue Quetzaltenango, departamento con una alta densidad poblacional.\n"
   ]
  },
  {
   "cell_type": "markdown",
   "id": "b2c97500",
   "metadata": {},
   "source": [
    "## ¿cuales son los 10 departamentos con mayores defunciones?"
   ]
  },
  {
   "cell_type": "markdown",
   "id": "a91962f5",
   "metadata": {},
   "source": [
    "## ¿Cuál fue el número de defunciones por año ?"
   ]
  },
  {
   "cell_type": "code",
   "execution_count": 10,
   "id": "1859dc12",
   "metadata": {},
   "outputs": [
    {
     "data": {
      "text/plain": [
       "<AxesSubplot:>"
      ]
     },
     "execution_count": 10,
     "metadata": {},
     "output_type": "execute_result"
    },
    {
     "data": {
      "image/png": "[encoded data removed]",
      "text/plain": [
       "<Figure size 432x288 with 1 Axes>"
      ]
     },
     "metadata": {
      "needs_background": "light"
     },
     "output_type": "display_data"
    }
   ],
   "source": [
    "años = deaths[\"Añoreg\"].value_counts().to_frame()\n",
    "años.plot(kind = \"bar\")"
   ]
  },
  {
   "cell_type": "markdown",
   "id": "c7f7bfb6",
   "metadata": {},
   "source": [
    "## Realice un gráfico de barras  por el mes de ocurrencia de la defunción"
   ]
  },
  {
   "cell_type": "code",
   "execution_count": 11,
   "id": "d28a88b1",
   "metadata": {},
   "outputs": [
    {
     "data": {
      "text/plain": [
       "<AxesSubplot:>"
      ]
     },
     "execution_count": 11,
     "metadata": {},
     "output_type": "execute_result"
    },
    {
     "data": {
      "image/png": "[encoded data removed]",
      "text/plain": [
       "<Figure size 432x288 with 1 Axes>"
      ]
     },
     "metadata": {
      "needs_background": "light"
     },
     "output_type": "display_data"
    }
   ],
   "source": [
    "mes = deaths[\"Mesreg\"].value_counts().to_frame()\n",
    "mes.plot(kind = \"bar\")"
   ]
  },
  {
   "cell_type": "markdown",
   "id": "dc22b1cd",
   "metadata": {},
   "source": [
    "#### Es curioso ver como en el mes de julio es donde se dan la mayor cantidad de muertes. Podemos relacionarlo con el pago de la bonificación del bono 14, ya que en este mes las extorsiones aumentan. Esto nos indica que el índice de violencia puede ser superior por dicho bono, por lo que las muertes aumentan. Para Julio de 2020 además, se tuvieron picos en la pandemia Covid19, lo que quizá pudo darle peso a esta variable."
   ]
  },
  {
   "cell_type": "markdown",
   "id": "cecbc60c",
   "metadata": {},
   "source": [
    "## ¿Qué escolaridad presenta mayores defunciones?¿Influye el tener una educación superior a reducir el número de defunciones?"
   ]
  },
  {
   "cell_type": "code",
   "execution_count": 12,
   "id": "47f8a9a0",
   "metadata": {},
   "outputs": [
    {
     "data": {
      "text/plain": [
       "<AxesSubplot:>"
      ]
     },
     "execution_count": 12,
     "metadata": {},
     "output_type": "execute_result"
    },
    {
     "data": {
      "image/png": "[encoded data removed]",
      "text/plain": [
       "<Figure size 432x288 with 1 Axes>"
      ]
     },
     "metadata": {
      "needs_background": "light"
     },
     "output_type": "display_data"
    }
   ],
   "source": [
    "esc = deaths[\"Escodif\"].value_counts().to_frame()\n",
    "esc.plot(kind = \"bar\")"
   ]
  },
  {
   "cell_type": "markdown",
   "id": "84fe80ff",
   "metadata": {},
   "source": [
    "#### La mayoría de muertes se dan en personas con escolaridad nula. Es interesante observar como estudiantes universitarios y de posgrado son los que presentan la menor cantidad de muertes en los últimos 10 años.\n"
   ]
  },
  {
   "cell_type": "code",
   "execution_count": null,
   "id": "94d96cfd",
   "metadata": {},
   "outputs": [],
   "source": []
  }
 ],
 "metadata": {
  "kernelspec": {
   "display_name": "Python 3 (ipykernel)",
   "language": "python",
   "name": "python3"
  },
  "language_info": {
   "codemirror_mode": {
    "name": "ipython",
    "version": 3
   },
   "file_extension": ".py",
   "mimetype": "text/x-python",
   "name": "python",
   "nbconvert_exporter": "python",
   "pygments_lexer": "ipython3",
   "version": "3.9.7"
  }
 },
 "nbformat": 4,
 "nbformat_minor": 5
}
