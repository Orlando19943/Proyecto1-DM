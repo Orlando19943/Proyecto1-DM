{
 "cells": [
  {
   "cell_type": "markdown",
   "source": [
    "- Diana Zaray Corado #191025\n",
    "- Pablo Alejandro Méndez #19195\n",
    "- Orlando Osberto Cabrera #19943\n",
    "- Javier Alejandro Mejía Alecio #20304\n",
    "- Erick Raúl Alvarez Melgar #20900\n",
    "\n",
    "# Proyecto - Análisis Exploratorio\n",
    "\n",
    "Guatemala es conocido como el país de la eterna primavera, debido a su diversidad de flora y fauna, además de contar\n",
    "con un clima conocido como templado, es decir no existen climas extremos a lo largo del año. Sin embargo, así como\n",
    "es conocido por su belleza natural, también es fuertemente reconocible por la corrupción y los bajos índices de calidad\n",
    "de vida, y uno de ellos es el de mortalidad, la cual expresa la frecuencia con la cual ocurren las defunciones en una\n",
    "población dada, en el caso de Guatemala, para el año 2019 fue de 4.72% (Datosmacro, 2021), es decir en promedio 5 muertes por cada 1000 habitantes.\n",
    "A continuación se realizará un análisis exploratorio, sobre los datos de defunciones reportados por el Instituto Nacional de\n",
    "Estadística de Guatemala -INE- de los años 2011 a 2020, y dentro de los cuales se pretende encontrar una situación problemática\n",
    "la cual a su vez pueda ser resuelta con los datos analizados."
   ],
   "metadata": {
    "collapsed": false
   }
  },
  {
   "cell_type": "code",
   "execution_count": null,
   "outputs": [],
   "source": [
    "import pandas as pd\n",
    "import numpy as np\n",
    "import scipy.stats as sp\n",
    "from scipy.stats import contingency\n",
    "import seaborn as sns\n",
    "from kmodes.kmodes import KModes\n",
    "import matplotlib.pyplot as plt\n",
    "import matplotlib.cm as cm\n",
    "from sklearn.metrics import silhouette_samples, silhouette_score\n",
    "import random\n",
    "# Estilos\n",
    "plt.style.use('ggplot')\n",
    "sns.set_theme(palette=None)\n",
    "\n",
    "# Cargar los datos\n",
    "deaths = pd.read_csv('final.csv')\n",
    "# Como ya se cuenta con la causa de muerte (categorizada) la descripción sale sobrando\n",
    "# De igual forma, el periodo de edad se puede obtener mediante la edad así que es info redundante\n",
    "deaths = deaths.loc[:, deaths.columns != 'Perdif']\n",
    "deaths = deaths.loc[:, deaths.columns != 'caudef.descrip']\n",
    "\n",
    "\n",
    "deaths['cause'] = deaths['Caudef'].copy()"
   ],
   "metadata": {
    "collapsed": false,
    "pycharm": {
     "name": "#%%\n"
    }
   }
  },
  {
   "cell_type": "code",
   "execution_count": null,
   "outputs": [],
   "source": [
    "# deaths.cause = deaths.cause.str.replace(r'\\d+.*', r'\\1', regex=True)\n",
    "repl = {r'([AB])(\\d+.*)' : r'AB',\n",
    "        r'(C)(\\d+.*)' : r'CD',\n",
    "        r'(D[0-4])(\\d+.*)' : r'CD',\n",
    "        r'(D[5-8])(\\d+.*)' : r'DD',\n",
    "        r'(E)(\\d+.*)' : r'EE',\n",
    "        r'(F)(\\d+.*)' : r'FF',\n",
    "        r'(G)(\\d+.*)' : r'GG',\n",
    "        r'(H[0-5])(\\d+.*)' : r'HA',\n",
    "        r'(H[6-9])(\\d+.*)' : r'HB',\n",
    "        r'(I)(\\d+.*)' : r'II',\n",
    "        r'(J)(\\d+.*)' : r'JJ',\n",
    "        r'(K)(\\d+.*)' : r'KK',\n",
    "        r'(L)(\\d+.*)' : r'LL',\n",
    "        r'(M)(\\d+.*)' : r'MM',\n",
    "        r'(N)(\\d+.*)' : r'NN',\n",
    "        r'(O)(\\d+.*)' : r'OO',\n",
    "        r'(P)(\\d+.*)' : r'PP',\n",
    "        r'(Q)(\\d+.*)' : r'QQ',\n",
    "        r'(R[0-8])(\\d+.*)' : r'RR',\n",
    "        r'(R9)(\\d+.*)' : r'RA',\n",
    "        r'([ST])(\\d+.*)' : r'ST',\n",
    "        r'([VWXY])(\\d+.*)' : r'VY',\n",
    "        r'([Z])(\\d+.*)' : r'ZZ',\n",
    "        r'([U])(\\d+.*)' : r'UU',\n",
    "        }\n",
    "deaths.cause = deaths['cause'].replace(repl, regex=True)\n",
    "deaths['cause']"
   ],
   "metadata": {
    "collapsed": false,
    "pycharm": {
     "name": "#%%\n"
    }
   }
  },
  {
   "cell_type": "markdown",
   "source": [
    "Cruce las variables que considere que son las más importantes para hallar los elementos clave que lo pueden llevar a\n",
    "comprender lo que está causando el problema encontrado.\n",
    "\n",
    "Para hacer el cruce de las variables y comprender si existe cierta asociación entre dichas variables se utilizará Cramer´s V\n",
    "la cual es una medida de la longitud entre variables categóricas, básicamente mide la relación entre las variables. Su valor\n",
    "varía de 0 a 1, donde 0 indica que no existe ningún tipo de asociación entre las variables y 1 que sí existe asociación entre\n",
    "las mismas. Por otro lado, también se utilizarán las tablas de contingencia para hacer el \"cruce\" de las variables.\n",
    "\n",
    "Durante el análisis exploratorio de los datos y mediante las diversas preguntas que se plantearon para conocer dichos datos\n",
    "se pudo encontrar que existe una gran parte de las defunciones las cuales NO reciben asistencia médica, y esto es más notorio\n",
    "cuando se habla de asistencia médica por pueblo de pertenencia. Por lo tal, se evaluará únicamente la asociación de las variables\n",
    "con respecto al tipo de asistencia que reciben."
   ],
   "metadata": {
    "collapsed": false
   }
  }
 ],
 "metadata": {
  "kernelspec": {
   "display_name": "Python 3",
   "language": "python",
   "name": "python3"
  },
  "language_info": {
   "codemirror_mode": {
    "name": "ipython",
    "version": 2
   },
   "file_extension": ".py",
   "mimetype": "text/x-python",
   "name": "python",
   "nbconvert_exporter": "python",
   "pygments_lexer": "ipython2",
   "version": "2.7.6"
  }
 },
 "nbformat": 4,
 "nbformat_minor": 0
}