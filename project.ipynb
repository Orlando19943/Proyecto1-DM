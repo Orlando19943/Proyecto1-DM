{
 "cells": [
  {
   "cell_type": "markdown",
   "metadata": {
    "collapsed": false
   },
   "source": [
    "- Diana Zaray Corado #191025\n",
    "- Pablo Alejandro Méndez #19195\n",
    "- Orlando Osberto Cabrera #19943\n",
    "- Javier Alejandro Mejía Alecio #20304\n",
    "- Erick Raúl Alvarez Melgar #20900\n",
    "# Proyecto - Análisis Exploratorio\n",
    "\n",
    "Guatemala es conocido como el país de la eterna primavera, debido a su diversidad de flora y fauna, además de contar\n",
    "con un clima conocido como templado, es decir no existen climas extremos a lo largo del año. Sin embargo, así como\n",
    "es conocido por su belleza natural, también es fuertemente reconocible por la corrupción y los bajos índices de calidad\n",
    "de vida, y uno de ellos es el de mortalidad, la cual expresa la frecuencia con la cual ocurren las defunciones en una\n",
    "población dada, en el caso de Guatemala, para el año 2019 fue de 4.72% (Datosmacro, 2021), es decir en promedio 5 muertes por cada 1000 habitantes.\n",
    "A continuación se realizará un análisis exploratorio, sobre los datos de defunciones reportados por el Instituto Nacional de\n",
    "Estadística de Guatemala -INE- de los años 2011 a 2020, y dentro de los cuales se pretende encontrar una situación problemática\n",
    "la cual a su vez pueda ser resuelta con los datos analizados."
   ],
   "metadata": {
    "collapsed": false
   }
  },
  {
   "cell_type": "code",
   "execution_count": 4,
   "outputs": [],
   "source": [
    "import pandas as pd\n",
    "import numpy as np\n",
    "import scipy.stats as sp\n",
    "import seaborn as sns\n",
    "import matplotlib.pyplot as plt"
   ]
  },
  {
   "cell_type": "code",
   "execution_count": null,
   "metadata": {
    "collapsed": false,
    "pycharm": {
     "name": "#%%\n"
    }
   }
  },
  {
   "cell_type": "code",
   "execution_count": 3,
   "outputs": [],
   "source": [
    "# General functions\n",
    "def calculate_frequency(data, column, index='index', head = False):\n",
    "    data_f = pd.DataFrame({\n",
    "        'frequency': data[column].value_counts(),\n",
    "        'relative_frequency (%)': data[column].value_counts(normalize=True)*100,\n",
    "        'relative_acc_frequency': data[column].value_counts(normalize=True).cumsum()\n",
    "    })\n",
    "    data_f.reset_index(level=[0], inplace=True)\n",
    "    data_f.rename(columns={index:column}, inplace=True)\n",
    "    if head:\n",
    "        left_aligned_df = data_f.head(20).style.set_properties(**{'text-align': 'center'})\n",
    "    else:\n",
    "        left_aligned_df = data_f.style.set_properties(**{'text-align': 'center'})\n",
    "    display(left_aligned_df)\n",
    "    return data_f"
   ]
  },
  {
   "cell_type": "code",
   "execution_count": null,
   "outputs": [],
   "source": [
    "# Cargar los datos\n",
    "deaths = pd.read_csv('muertes_final.csv')"
   ],
   "metadata": {
    "collapsed": false,
    "pycharm": {
     "name": "#%%\n"
    }
   }
  },
  {
   "cell_type": "markdown",
   "metadata": {
    "collapsed": false
   },
   "source": [
    "# Exploración de los datos\n",
    "// Rúbrica\n",
    "- Estudia las variables cuantitativas mediante técnicas de estadística descriptiva\n",
    "- Hace gráficos exploratorios como histogramas, diagramas de cajas y bigotes, gráficos de dispersión,\n",
    "que ayudan a explicar los datos.\n",
    "- Analiza las correlaciones entre las variables, trata de explicar los outliers\n",
    "(puntos atípicos) y toma decisiones acertadas ante la presencia de valores faltantes.\n",
    "- Estudia las variables categóricas.\n",
    "- Elabora gráficos de barra, tablas de frecuencia y de proporciones\n",
    "- Explica muy bien todos los procedimientos y los hallazgos que va haciendo.\n",
    "- Determina el mejor número de clusters a utilizar.\n",
    "- Hace el agrupamiento con cualquiera de los algoritmos estudiados.\n",
    "- Verifica la calidad del agrupamiento usando el método de la silueta.\n",
    "- Interpreta los grupos, usando para eso las variables numéricas y categóricas dentro de cada grupo.\n",
    "\n",
    "## ¿Cuáles son los datos?\n",
    "Comience describiendo cuantas variables y observaciones tiene disponibles, el tipo de cada una de las variables.\n",
    "\n",
    "### Clasificación de variables\n",
    "**Cuantitativas**\n",
    "No hay XD\n",
    "\n",
    "**Cualitativas Ordinal**\n",
    "- EDADIF → Edad del difunto\n",
    "- ESCODIF → Escolaridad del difunto\n",
    "\n",
    "**Cualitativa Nominal**\n",
    "- DEPREG → Departamento de registro\n",
    "- MUPREG → Municipio de registro\n",
    "- MESREG → Mes de registro\n",
    "- AÑOREG → Año de registro\n",
    "- DEPOCU → Departamento de ocurrencia\n",
    "- MUPOCU → Municipio de ocurrencia\n",
    "- AREGAG → Área geográfica de ocurrencia\n",
    "- SEXO\n",
    "- DIAOCU → Día de ocurrencia\n",
    "- MESOCU → Mes de ocurrencia\n",
    "- AÑOOCU → Año de ocurrencia\n",
    "- GETDIF → Grupo étnico del difunto\n",
    "- ECIDIF → Estado civil del difunto\n",
    "- OCUDIF → Ocupación del difunto\n",
    "- PNADIF → País de nacimiento\n",
    "- DNADIF → Departamento de nacimiento\n",
    "- MNADIF → Municipio de nacimiento\n",
    "- PREDIF → País de residencia\n",
    "- DREDIF → Departamento de residencia\n",
    "- MREDIF → Municipio de residencia\n",
    "- CAUDEF → Causa de defunción\n",
    "- ASIST → Asistencia recibida\n",
    "- OCUR → Sitio de ocurrencia\n",
    "- CERDEF → Quién certifica\n"
   ],
   "metadata": {
    "collapsed": false
   }
  },
  {
   "cell_type": "markdown",
   "source": [
    "## Preprocesamiento\n",
    "Análisis de valores atípicos y tratamientos de valores faltantes"
   ],
   "metadata": {
    "collapsed": false
   }
  },
  {
   "cell_type": "markdown",
   "source": [
    "## Variables cuantitativas y su distribución\n",
    "Haga un resumen de las variables numéricas e investigue si siguen una distribución normal.\n"
   ],
   "metadata": {
    "collapsed": false
   }
  },
  {
   "cell_type": "markdown",
   "source": [
    "## Variables cualitativas y su frecuencia\n",
    "Elabore tablas de frecuencia para las variables categóricas, escriba lo que vaya encontrando.\n",
    "// Acá también pueden ir preguntas\n"
   ],
   "metadata": {
    "collapsed": false
   }
  },
  {
   "cell_type": "markdown",
   "source": [
    "### Departamento de registro"
   ],
   "metadata": {
    "collapsed": false
   }
  },
  {
   "cell_type": "markdown",
   "source": [
    "### Municipio de registro"
   ],
   "metadata": {
    "collapsed": false
   }
  },
  {
   "cell_type": "markdown",
   "source": [
    "### Mes de registro"
   ],
   "metadata": {
    "collapsed": false
   }
  },
  {
   "cell_type": "markdown",
   "source": [
    "### Año de registro"
   ],
   "metadata": {
    "collapsed": false
   }
  },
  {
   "cell_type": "markdown",
   "source": [
    "### Departamento de ocurrencia"
   ],
   "metadata": {
    "collapsed": false
   }
  },
  {
   "cell_type": "markdown",
   "source": [
    "### Municipio de ocurrencia"
   ],
   "metadata": {
    "collapsed": false
   }
  },
  {
   "cell_type": "markdown",
   "source": [
    "### Área geográfica de ocurrencia"
   ],
   "metadata": {
    "collapsed": false
   }
  },
  {
   "cell_type": "markdown",
   "source": [
    "### SEXO"
   ],
   "metadata": {
    "collapsed": false
   }
  },
  {
   "cell_type": "markdown",
   "source": [
    "### Día de ocurrencia"
   ],
   "metadata": {
    "collapsed": false
   }
  },
  {
   "cell_type": "markdown",
   "source": [
    "### Mes de ocurrencia"
   ],
   "metadata": {
    "collapsed": false
   }
  },
  {
   "cell_type": "markdown",
   "source": [
    "### Año de ocurrencia"
   ],
   "metadata": {
    "collapsed": false
   }
  },
  {
   "cell_type": "markdown",
   "source": [
    "### Grupo étnico del difunto"
   ],
   "metadata": {
    "collapsed": false
   }
  },
  {
   "cell_type": "markdown",
   "source": [
    "### Estado civil del difunto\n",
    "¿Cuál es el estado civil predominante en las muertes?"
   ],
   "metadata": {
    "collapsed": false
   }
  },
  {
   "cell_type": "code",
   "execution_count": null,
   "metadata": {
    "collapsed": false,
    "pycharm": {
     "name": "#%%\n"
    }
   },
   "outputs": [],
   "source": []
  },
  {
   "cell_type": "markdown",
   "metadata": {},
   "source": [
    "### Ocupación del difunto"
   ],
   "source": [
    "datos.groupby([\"Mesocu\"], sort=True)[\"Mesocu\"].count().sort_values(ascending=False).head(3)\n",
    "datos.columns"
   ]
  },
  {
   "cell_type": "code",
   "execution_count": 72,
   "metadata": {},
   "outputs": [
    {
     "data": {
      "text/html": [
       "<div>\n",
       "<style scoped>\n",
       "    .dataframe tbody tr th:only-of-type {\n",
       "        vertical-align: middle;\n",
       "    }\n",
       "\n",
       "    .dataframe tbody tr th {\n",
       "        vertical-align: top;\n",
       "    }\n",
       "\n",
       "    .dataframe thead th {\n",
       "        text-align: right;\n",
       "    }\n",
       "</style>\n",
       "<table border=\"1\" class=\"dataframe\">\n",
       "  <thead>\n",
       "    <tr style=\"text-align: right;\">\n",
       "      <th></th>\n",
       "      <th>Unnamed: 0</th>\n",
       "      <th>Depreg</th>\n",
       "      <th>mupreg</th>\n",
       "      <th>Mesreg</th>\n",
       "      <th>Añoreg</th>\n",
       "      <th>Depocu</th>\n",
       "      <th>mupocu</th>\n",
       "      <th>Areag</th>\n",
       "      <th>Diaocu</th>\n",
       "      <th>Mesocu</th>\n",
       "      <th>...</th>\n",
       "      <th>Ocudif</th>\n",
       "      <th>Dnadif</th>\n",
       "      <th>Mnadif</th>\n",
       "      <th>Nacdif</th>\n",
       "      <th>Dredif</th>\n",
       "      <th>Mredif</th>\n",
       "      <th>Caudef</th>\n",
       "      <th>Asist</th>\n",
       "      <th>Ocur</th>\n",
       "      <th>Cerdef</th>\n",
       "    </tr>\n",
       "    <tr>\n",
       "      <th>Sexo</th>\n",
       "      <th></th>\n",
       "      <th></th>\n",
       "      <th></th>\n",
       "      <th></th>\n",
       "      <th></th>\n",
       "      <th></th>\n",
       "      <th></th>\n",
       "      <th></th>\n",
       "      <th></th>\n",
       "      <th></th>\n",
       "      <th></th>\n",
       "      <th></th>\n",
       "      <th></th>\n",
       "      <th></th>\n",
       "      <th></th>\n",
       "      <th></th>\n",
       "      <th></th>\n",
       "      <th></th>\n",
       "      <th></th>\n",
       "      <th></th>\n",
       "      <th></th>\n",
       "    </tr>\n",
       "  </thead>\n",
       "  <tbody>\n",
       "    <tr>\n",
       "      <th>Hombre</th>\n",
       "      <td>41295</td>\n",
       "      <td>41295</td>\n",
       "      <td>41295</td>\n",
       "      <td>41295</td>\n",
       "      <td>41295</td>\n",
       "      <td>41295</td>\n",
       "      <td>41295</td>\n",
       "      <td>41295</td>\n",
       "      <td>41295</td>\n",
       "      <td>41295</td>\n",
       "      <td>...</td>\n",
       "      <td>41295</td>\n",
       "      <td>41295</td>\n",
       "      <td>41295</td>\n",
       "      <td>41295</td>\n",
       "      <td>41295</td>\n",
       "      <td>41295</td>\n",
       "      <td>41295</td>\n",
       "      <td>41295</td>\n",
       "      <td>41295</td>\n",
       "      <td>41295</td>\n",
       "    </tr>\n",
       "    <tr>\n",
       "      <th>Mujer</th>\n",
       "      <td>31059</td>\n",
       "      <td>31059</td>\n",
       "      <td>31059</td>\n",
       "      <td>31059</td>\n",
       "      <td>31059</td>\n",
       "      <td>31059</td>\n",
       "      <td>31059</td>\n",
       "      <td>31059</td>\n",
       "      <td>31059</td>\n",
       "      <td>31059</td>\n",
       "      <td>...</td>\n",
       "      <td>31059</td>\n",
       "      <td>31059</td>\n",
       "      <td>31059</td>\n",
       "      <td>31059</td>\n",
       "      <td>31059</td>\n",
       "      <td>31059</td>\n",
       "      <td>31059</td>\n",
       "      <td>31059</td>\n",
       "      <td>31059</td>\n",
       "      <td>31059</td>\n",
       "    </tr>\n",
       "  </tbody>\n",
       "</table>\n",
       "<p>2 rows × 26 columns</p>\n",
       "</div>"
      ],
      "text/plain": [
       "        Unnamed: 0  Depreg  mupreg  Mesreg  Añoreg  Depocu  mupocu  Areag  \\\n",
       "Sexo                                                                        \n",
       "Hombre       41295   41295   41295   41295   41295   41295   41295  41295   \n",
       "Mujer        31059   31059   31059   31059   31059   31059   31059  31059   \n",
       "\n",
       "        Diaocu  Mesocu  ...  Ocudif  Dnadif  Mnadif  Nacdif  Dredif  Mredif  \\\n",
       "Sexo                    ...                                                   \n",
       "Hombre   41295   41295  ...   41295   41295   41295   41295   41295   41295   \n",
       "Mujer    31059   31059  ...   31059   31059   31059   31059   31059   31059   \n",
       "\n",
       "        Caudef  Asist   Ocur  Cerdef  \n",
       "Sexo                                  \n",
       "Hombre   41295  41295  41295   41295  \n",
       "Mujer    31059  31059  31059   31059  \n",
       "\n",
       "[2 rows x 26 columns]"
      ]
     },
     "execution_count": 72,
     "metadata": {},
     "output_type": "execute_result"
    }
   ],
   "source": [
    "#datos.groupby([\"añoocu\"], sort=True)[\"Predif\"].count()\n",
    "# Hombres 41295\n",
    "# Mujeres 31059\n",
    "datos.groupby([\"Asist\",\"Sexo\"])[\"Asist\"].count()\n",
    "datos.groupby(\"Sexo\").count()"
   ]
  },
  {
   "cell_type": "markdown",
   "metadata": {
    "collapsed": false
   },
   "source": [
    "## Variables cuantitativas y su distribución\n",
    "Haga un resumen de las variables numéricas e investigue si siguen una distribución normal y tablas de frecuencia para las variables categóricas, escriba lo que vaya encontrando."
   ]
  },
  {
   "cell_type": "markdown",
   "metadata": {
    "collapsed": false
   },
   "source": [
    "### País de nacimiento"
   ],
   "metadata": {
    "collapsed": false
   }
  },
  {
   "cell_type": "markdown",
   "source": [
    "### Departamento de nacimiento"
   ],
   "metadata": {
    "collapsed": false
   }
  },
  {
   "cell_type": "markdown",
   "source": [
    "### Municipio de nacimiento"
   ],
   "metadata": {
    "collapsed": false
   }
  },
  {
   "cell_type": "markdown",
   "source": [
    "### País de residencia"
   ],
   "metadata": {
    "collapsed": false
   }
  },
  {
   "cell_type": "markdown",
   "source": [
    "### Departamento de residencia"
   ],
   "metadata": {
    "collapsed": false
   }
  },
  {
   "cell_type": "markdown",
   "source": [
    "### Municipio de residencia"
   ],
   "metadata": {
    "collapsed": false
   }
  },
  {
   "cell_type": "markdown",
   "source": [
    "### Causa de defunción"
   ],
   "metadata": {
    "collapsed": false
   }
  },
  {
   "cell_type": "markdown",
   "source": [
    "### Asistencia recibida\n",
    "¿Cuál es el tipo de asistencia recibida predominante en las defunciones?"
   ],
   "metadata": {
    "collapsed": false
   }
  },
  {
   "cell_type": "code",
   "execution_count": null,
   "outputs": [],
   "source": [
    "assist = calculate_frequency(deaths, 'asist')"
   ],
   "metadata": {
    "collapsed": false,
    "pycharm": {
     "name": "#%%\n"
    }
   }
  },
  {
   "cell_type": "markdown",
   "source": [
    "### Sitio de ocurrencia\n",
    "¿Cuál es la proporción de personas que mueren en sus casas con respecto a las que mueren en hospitales?"
   ],
   "metadata": {
    "collapsed": false
   }
  },
  {
   "cell_type": "code",
   "execution_count": null,
   "outputs": [],
   "source": [
    "occur = calculate_frequency(deaths, 'ocur')"
   ],
   "metadata": {
    "collapsed": false,
    "pycharm": {
     "name": "#%%\n"
    }
   }
  },
  {
   "cell_type": "markdown",
   "source": [
    "### Quién certifica"
   ],
   "metadata": {
    "collapsed": false
   }
  },
  {
   "cell_type": "markdown",
   "source": [
    "### Correlación entre los datos"
   ],
   "metadata": {
    "collapsed": false
   }
  },
  {
   "cell_type": "markdown",
   "source": [
    "## Definiendo elementos clave\n",
    "Cruce las variables que considere que son las más importantes para hallar los elementos clave que lo pueden llevar a comprender lo que está causando el problema encontrado."
   ]
  },
  {
   "cell_type": "markdown",
   "metadata": {
    "collapsed": false
   },
   "source": [
    "## Estado de los datos\n",
    "Haga gráficos exploratorios que le dé ideas del estado de los datos.\n",
    "// Acá van las preguntas\n"
   ],
   "metadata": {
    "collapsed": false
   }
  },
  {
   "cell_type": "markdown",
   "source": [
    "#### ¿Cuál es la relación entre el género y la edad en cuanto a las defunciones en Guatemala? ¿Las mujeres tienden a morir más jóvenes que los hombres?\n"
   ],
   "metadata": {
    "collapsed": false
   }
  },
  {
   "cell_type": "code",
   "source": [
    "age_gender = deaths.groupby(by=['sexo', 'edad']).count()\n",
    "# Hacer gráfico de barras"
   ],
   "metadata": {
    "collapsed": false,
    "pycharm": {
     "name": "#%%\n"
    }
   },
   "execution_count": null,
   "outputs": []
  },
  {
   "cell_type": "markdown",
   "source": [
    "#### ¿Cuál es el porcentaje de población indígena que recibe asistencia hospitalaria?"
   ],
   "metadata": {
    "collapsed": false
   }
  },
  {
   "cell_type": "code",
   "execution_count": null,
   "outputs": [],
   "source": [
    "etnic_asist = deaths.groupby(by=['etnic', 'asist']).count()\n",
    "# Hacer pie"
   ],
   "metadata": {
    "collapsed": false,
    "pycharm": {
     "name": "#%%\n"
    }
   }
  },
  {
   "cell_type": "markdown",
   "source": [
    "#### ¿Es cierto que la soledad (soltería) incrementa la probabilidad de muerte temprana?"
   ],
   "metadata": {
    "collapsed": false
   }
  },
  {
   "cell_type": "code",
   "execution_count": null,
   "outputs": [],
   "source": [
    "lonely = deaths.groupby(by=['estado', 'edad']).count()\n",
    "# Hacer barras\n"
   ],
   "metadata": {
    "collapsed": false,
    "pycharm": {
     "name": "#%%\n"
    }
   }
  },
  {
   "cell_type": "markdown",
   "source": [
    "#### ¿Cómo es la distribución de las muertes de los jóvenes entre 18-30 que tienen una escolaridad por encima de diversificado?"
   ],
   "metadata": {
    "collapsed": false
   }
  },
  {
   "cell_type": "code",
   "execution_count": null,
   "outputs": [],
   "source": [
    "young = deaths.loc[(deaths['edad'] >= 18 & deaths['edad'] <= 30 & deaths['edad'] >= 18), ]\n",
    "# hay que sacar ahora por el parámetro de estudio\n",
    "# Hacer barras"
   ],
   "metadata": {
    "collapsed": false,
    "pycharm": {
     "name": "#%%\n"
    }
   }
  },
  {
   "cell_type": "markdown",
   "source": [
    "## Agrupamiento\n",
    "Haga un agrupamiento (clustering) e interprete los resultados."
   ],
   "metadata": {
    "collapsed": false,
    "pycharm": {
     "name": "#%% md\n"
    }
   },
   "source": [
    "## Agrupamiento\n",
    "Haga un agrupamiento (clustering) e interprete los resultados."
   ]
  },
  {
   "cell_type": "markdown",
   "metadata": {
    "collapsed": false
   },
   "source": [
    "# Análisis de resultados\n",
    "\n",
    "## Situación problemática\n",
    "Describa la situación problemática que lo lleva a acotar un problema a resolver.\n"
   ]
  },
  {
   "cell_type": "markdown",
   "metadata": {
    "collapsed": false
   },
   "source": [
    "## Problema científico\n",
    "Enuncie un problema científico y unos objetivos preliminares."
   ]
  },
  {
   "cell_type": "markdown",
   "metadata": {
    "collapsed": false
   },
   "source": [
    "## ¿Qué se tiene para responder el problema?\n",
    "Describa los datos que tiene para responder el problema planteado. Esto incluye el estado en que encontró el o los conjuntos de datos y las operaciones de limpieza que le realizó, en caso de que hayan sido necesarias."
   ]
  },
  {
   "cell_type": "markdown",
   "metadata": {
    "collapsed": false
   },
   "source": [
    "## Conclusiones\n",
    "Escriba unas conclusiones con los hallazgos encontrados durante el análisis exploratorio"
   ]
  }
 ],
 "metadata": {
  "kernelspec": {
   "display_name": "Python 3",
   "language": "python",
   "name": "python3"
  },
  "language_info": {
   "codemirror_mode": {
    "name": "ipython",
    "version": 3
   },
   "file_extension": ".py",
   "mimetype": "text/x-python",
   "name": "python",
   "nbconvert_exporter": "python",
   "pygments_lexer": "ipython3",
   "version": "3.9.6"
  }
 },
 "nbformat": 4,
 "nbformat_minor": 0
}
