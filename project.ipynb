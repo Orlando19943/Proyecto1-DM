{
 "cells": [
  {
   "cell_type": "markdown",
   "source": [
    "- Diana Zaray Corado #191025\n",
    "- Pablo Alejandro Méndez #19195\n",
    "- Orlando Osberto Cabrera #19943\n",
    "- Javier\n",
    "- Erick\n",
    "# Proyecto - Análisis Exploratorio"
   ],
   "metadata": {
    "collapsed": false
   }
  },
  {
   "cell_type": "code",
   "execution_count": null,
   "outputs": [],
   "source": [
    "import pandas as pd\n",
    "import numpy as np\n",
    "import scipy.stats as sp\n",
    "import seaborn as sns\n",
    "import matplotlib.pyplot as plt"
   ],
   "metadata": {
    "collapsed": false,
    "pycharm": {
     "name": "#%%\n"
    }
   }
  },
  {
   "cell_type": "code",
   "execution_count": null,
   "outputs": [],
   "source": [
    "# General functions\n",
    "def calculate_frecuency(data, column, index='index', head = False):\n",
    "    data_f = pd.DataFrame({\n",
    "        'frecuency': data[column].value_counts(),\n",
    "        'relative_frecuency (%)': data[column].value_counts(normalize=True)*100,\n",
    "        'relative_acc_frecuency': data[column].value_counts(normalize=True).cumsum()\n",
    "    })\n",
    "    data_f.reset_index(level=[0], inplace=True)\n",
    "    data_f.rename(columns={index:column}, inplace=True)\n",
    "    if head:\n",
    "        left_aligned_df = data_f.head(20).style.set_properties(**{'text-align': 'center'})\n",
    "    else:\n",
    "        left_aligned_df = data_f.style.set_properties(**{'text-align': 'center'})\n",
    "    display(left_aligned_df)\n",
    "    return data_f"
   ],
   "metadata": {
    "collapsed": false,
    "pycharm": {
     "name": "#%%\n"
    }
   }
  },
  {
   "cell_type": "markdown",
   "source": [
    "# Exploración de los datos\n",
    "// Rúbrica\n",
    "- Estudia las variables cuantitativas mediante técnicas de estadística descriptiva\n",
    "- Hace gráficos exploratorios como histogramas, diagramas de cajas y bigotes, gráficos de dispersión, que ayudan a explicar los datos.\n",
    "- Analiza las correlaciones entre las variables, trata de explicar los outliers (puntos atípicos) y toma decisiones acertadas ante la presencia de valores faltantes.\n",
    "- Estudia las variables categóricas.\n",
    "- Elabora gráficos de barra, tablas de frecuencia y de proporciones\n",
    "- Explica muy bien todos los procedimientos y los hallazgos que va haciendo.\n",
    "- Determina el mejor número de clusters a utilizar.\n",
    "- Hace el agrupamiento con cualquiera de los algoritmos estudiados.\n",
    "- Verifica la calidad del agrupamiento usando el método de la silueta.\n",
    "- Interpreta los grupos, usando para eso las variables numéricas y categóricas dentro de cada grupo.\n",
    "\n",
    "\n",
    "## ¿Cuáles son los datos?\n",
    "Comience describiendo cuantas variables y observaciones tiene disponibles, el tipo de cada una de las variables."
   ],
   "metadata": {
    "collapsed": false
   }
  },
  {
   "cell_type": "code",
   "execution_count": null,
   "outputs": [],
   "source": [],
   "metadata": {
    "collapsed": false,
    "pycharm": {
     "name": "#%%\n"
    }
   }
  },
  {
   "cell_type": "markdown",
   "source": [
    "## Variables cuantitativas y su distribución\n",
    "Haga un resumen de las variables numéricas e investigue si siguen una distribución normal y tablas de frecuencia para las variables categóricas, escriba lo que vaya encontrando."
   ],
   "metadata": {
    "collapsed": false
   }
  },
  {
   "cell_type": "markdown",
   "source": [
    "## Definiendo elementos clave\n",
    "Cruce las variables que considere que son las más importantes para hallar los elementos clave que lo pueden llevar a comprender lo que está causando el problema encontrado."
   ],
   "metadata": {
    "collapsed": false
   }
  },
  {
   "cell_type": "markdown",
   "source": [
    "## Estado de los datos\n",
    "Haga gráficos exploratorios que le de ideas del estado de los datos.\n",
    "// Acá van las preguntas"
   ],
   "metadata": {
    "collapsed": false
   }
  },
  {
   "cell_type": "markdown",
   "source": [
    "## Agrupamiento\n",
    "Haga un agrupamiento (clustering) e interprete los resultados."
   ],
   "metadata": {
    "collapsed": false,
    "pycharm": {
     "name": "#%% md\n"
    }
   }
  },
  {
   "cell_type": "markdown",
   "source": [
    "# Análisis de resultados\n",
    "\n",
    "## Situación problemática\n",
    "Describa la situación problemática que lo lleva a acotar un problema a resolver.\n"
   ],
   "metadata": {
    "collapsed": false
   }
  },
  {
   "cell_type": "markdown",
   "source": [
    "## Problema científico\n",
    "Enuncie un problema científico y unos objetivos preliminares."
   ],
   "metadata": {
    "collapsed": false
   }
  },
  {
   "cell_type": "markdown",
   "source": [
    "## ¿Qué se tiene para responder el problema?\n",
    "Describa los datos que tiene para responder el problema planteado. Esto incluye el estado en que encontró el o los conjuntos de datos y las operaciones de limpieza que le realizó, en caso de que hayan sido necesarias."
   ],
   "metadata": {
    "collapsed": false
   }
  },
  {
   "cell_type": "markdown",
   "source": [
    "## Conclusiones\n",
    "Escriba unas conclusiones con los hallazgos encontrados durante el análisis exploratorio"
   ],
   "metadata": {
    "collapsed": false
   }
  }
 ],
 "metadata": {
  "kernelspec": {
   "display_name": "Python 3",
   "language": "python",
   "name": "python3"
  },
  "language_info": {
   "codemirror_mode": {
    "name": "ipython",
    "version": 2
   },
   "file_extension": ".py",
   "mimetype": "text/x-python",
   "name": "python",
   "nbconvert_exporter": "python",
   "pygments_lexer": "ipython2",
   "version": "2.7.6"
  }
 },
 "nbformat": 4,
 "nbformat_minor": 0
}