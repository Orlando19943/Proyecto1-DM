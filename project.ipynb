{
 "cells": [
  {
   "cell_type": "markdown",
   "metadata": {},
   "source": [
    "- Diana Zaray Corado #191025\n",
    "- Pablo Alejandro Méndez #19195\n",
    "- Orlando Osberto Cabrera #19943\n",
    "- Javier Alejandro Mejía Alecio #20304\n",
    "- Erick Raúl Alvarez Melgar #20900\n",
    "\n",
    "# Proyecto - Análisis Exploratorio\n",
    "\n",
    "Guatemala es conocido como el país de la eterna primavera, debido a su diversidad de flora y fauna, además de contar\n",
    "con un clima conocido como templado, es decir no existen climas extremos a lo largo del año. Sin embargo, así como\n",
    "es conocido por su belleza natural, también es fuertemente reconocible por la corrupción y los bajos índices de calidad\n",
    "de vida, y uno de ellos es el de mortalidad, la cual expresa la frecuencia con la cual ocurren las defunciones en una\n",
    "población dada, en el caso de Guatemala, para el año 2019 fue de 4.72% (Datosmacro, 2021), es decir en promedio 5 muertes por cada 1000 habitantes.\n",
    "A continuación se realizará un análisis exploratorio, sobre los datos de defunciones reportados por el Instituto Nacional de\n",
    "Estadística de Guatemala -INE- de los años 2011 a 2020, y dentro de los cuales se pretende encontrar una situación problemática\n",
    "la cual a su vez pueda ser resuelta con los datos analizados."
   ]
  },
  {
   "cell_type": "code",
   "execution_count": 1,
   "metadata": {
    "pycharm": {
     "name": "#%%\n"
    }
   },
   "outputs": [],
   "source": [
    "import pandas as pd\n",
    "import numpy as np\n",
    "import scipy.stats as sp\n",
    "from scipy.stats import contingency\n",
    "import seaborn as sns\n",
    "from kmodes.kmodes import KModes\n",
    "import matplotlib.pyplot as plt\n",
    "import matplotlib.cm as cm\n",
    "from sklearn.metrics import silhouette_samples, silhouette_score\n",
    "import random\n",
    "# Estilos\n",
    "plt.style.use('ggplot')\n",
    "#sns.set_theme(palette=None)"
   ]
  },
  {
   "cell_type": "code",
   "execution_count": 2,
   "metadata": {
    "pycharm": {
     "name": "#%%\n"
    }
   },
   "outputs": [],
   "source": [
    "# General functions\n",
    "def calculate_frequency(data, column, index='index', head = False, size=20, use = False):\n",
    "    data_f = pd.DataFrame({\n",
    "        'frequency': data[column].value_counts(),\n",
    "        'relative_frequency (%)': data[column].value_counts(normalize=True)*100,\n",
    "        'relative_acc_frequency': data[column].value_counts(normalize=True).cumsum()\n",
    "    })\n",
    "    data_f.reset_index(level=[0], inplace=True)\n",
    "    data_f.rename(columns={index:column}, inplace=True)\n",
    "    if head:\n",
    "        left_aligned_df = data_f.head(size).style.set_properties(**{'text-align': 'center'})\n",
    "    else:\n",
    "        left_aligned_df = data_f.style.set_properties(**{'text-align': 'center'})\n",
    "    display(left_aligned_df)\n",
    "\n",
    "    if use:\n",
    "        return data_f\n",
    "\n",
    "    return None\n",
    "\n",
    "def is_normal(column, tolerancia=0.05):\n",
    "    return sp.normaltest(column).pvalue > tolerancia"
   ]
  },
  {
   "cell_type": "code",
   "execution_count": 3,
   "metadata": {
    "pycharm": {
     "name": "#%%\n"
    }
   },
   "outputs": [
    {
     "ename": "FileNotFoundError",
     "evalue": "[Errno 2] No such file or directory: 'final.csv'",
     "output_type": "error",
     "traceback": [
      "\u001b[1;31m---------------------------------------------------------------------------\u001b[0m",
      "\u001b[1;31mFileNotFoundError\u001b[0m                         Traceback (most recent call last)",
      "Input \u001b[1;32mIn [3]\u001b[0m, in \u001b[0;36m<module>\u001b[1;34m\u001b[0m\n\u001b[0;32m      1\u001b[0m \u001b[38;5;66;03m# Cargar los datos\u001b[39;00m\n\u001b[1;32m----> 2\u001b[0m deaths \u001b[38;5;241m=\u001b[39m \u001b[43mpd\u001b[49m\u001b[38;5;241;43m.\u001b[39;49m\u001b[43mread_csv\u001b[49m\u001b[43m(\u001b[49m\u001b[38;5;124;43m'\u001b[39;49m\u001b[38;5;124;43mfinal.csv\u001b[39;49m\u001b[38;5;124;43m'\u001b[39;49m\u001b[43m)\u001b[49m\n\u001b[0;32m      3\u001b[0m \u001b[38;5;66;03m# Como ya se cuenta con la causa de muerte (categorizada) la descripción sale sobrando\u001b[39;00m\n\u001b[0;32m      4\u001b[0m \u001b[38;5;66;03m# De igual forma, el periodo de edad se puede obtener mediante la edad así que es info redundante\u001b[39;00m\n\u001b[0;32m      5\u001b[0m deaths \u001b[38;5;241m=\u001b[39m deaths\u001b[38;5;241m.\u001b[39mloc[:, deaths\u001b[38;5;241m.\u001b[39mcolumns \u001b[38;5;241m!=\u001b[39m \u001b[38;5;124m'\u001b[39m\u001b[38;5;124mPerdif\u001b[39m\u001b[38;5;124m'\u001b[39m]\n",
      "File \u001b[1;32mc:\\users\\javi3\\appdata\\local\\programs\\python\\python39\\lib\\site-packages\\pandas\\util\\_decorators.py:311\u001b[0m, in \u001b[0;36mdeprecate_nonkeyword_arguments.<locals>.decorate.<locals>.wrapper\u001b[1;34m(*args, **kwargs)\u001b[0m\n\u001b[0;32m    305\u001b[0m \u001b[38;5;28;01mif\u001b[39;00m \u001b[38;5;28mlen\u001b[39m(args) \u001b[38;5;241m>\u001b[39m num_allow_args:\n\u001b[0;32m    306\u001b[0m     warnings\u001b[38;5;241m.\u001b[39mwarn(\n\u001b[0;32m    307\u001b[0m         msg\u001b[38;5;241m.\u001b[39mformat(arguments\u001b[38;5;241m=\u001b[39marguments),\n\u001b[0;32m    308\u001b[0m         \u001b[38;5;167;01mFutureWarning\u001b[39;00m,\n\u001b[0;32m    309\u001b[0m         stacklevel\u001b[38;5;241m=\u001b[39mstacklevel,\n\u001b[0;32m    310\u001b[0m     )\n\u001b[1;32m--> 311\u001b[0m \u001b[38;5;28;01mreturn\u001b[39;00m func(\u001b[38;5;241m*\u001b[39margs, \u001b[38;5;241m*\u001b[39m\u001b[38;5;241m*\u001b[39mkwargs)\n",
      "File \u001b[1;32mc:\\users\\javi3\\appdata\\local\\programs\\python\\python39\\lib\\site-packages\\pandas\\io\\parsers\\readers.py:586\u001b[0m, in \u001b[0;36mread_csv\u001b[1;34m(filepath_or_buffer, sep, delimiter, header, names, index_col, usecols, squeeze, prefix, mangle_dupe_cols, dtype, engine, converters, true_values, false_values, skipinitialspace, skiprows, skipfooter, nrows, na_values, keep_default_na, na_filter, verbose, skip_blank_lines, parse_dates, infer_datetime_format, keep_date_col, date_parser, dayfirst, cache_dates, iterator, chunksize, compression, thousands, decimal, lineterminator, quotechar, quoting, doublequote, escapechar, comment, encoding, encoding_errors, dialect, error_bad_lines, warn_bad_lines, on_bad_lines, delim_whitespace, low_memory, memory_map, float_precision, storage_options)\u001b[0m\n\u001b[0;32m    571\u001b[0m kwds_defaults \u001b[38;5;241m=\u001b[39m _refine_defaults_read(\n\u001b[0;32m    572\u001b[0m     dialect,\n\u001b[0;32m    573\u001b[0m     delimiter,\n\u001b[1;32m   (...)\u001b[0m\n\u001b[0;32m    582\u001b[0m     defaults\u001b[38;5;241m=\u001b[39m{\u001b[38;5;124m\"\u001b[39m\u001b[38;5;124mdelimiter\u001b[39m\u001b[38;5;124m\"\u001b[39m: \u001b[38;5;124m\"\u001b[39m\u001b[38;5;124m,\u001b[39m\u001b[38;5;124m\"\u001b[39m},\n\u001b[0;32m    583\u001b[0m )\n\u001b[0;32m    584\u001b[0m kwds\u001b[38;5;241m.\u001b[39mupdate(kwds_defaults)\n\u001b[1;32m--> 586\u001b[0m \u001b[38;5;28;01mreturn\u001b[39;00m \u001b[43m_read\u001b[49m\u001b[43m(\u001b[49m\u001b[43mfilepath_or_buffer\u001b[49m\u001b[43m,\u001b[49m\u001b[43m \u001b[49m\u001b[43mkwds\u001b[49m\u001b[43m)\u001b[49m\n",
      "File \u001b[1;32mc:\\users\\javi3\\appdata\\local\\programs\\python\\python39\\lib\\site-packages\\pandas\\io\\parsers\\readers.py:482\u001b[0m, in \u001b[0;36m_read\u001b[1;34m(filepath_or_buffer, kwds)\u001b[0m\n\u001b[0;32m    479\u001b[0m _validate_names(kwds\u001b[38;5;241m.\u001b[39mget(\u001b[38;5;124m\"\u001b[39m\u001b[38;5;124mnames\u001b[39m\u001b[38;5;124m\"\u001b[39m, \u001b[38;5;28;01mNone\u001b[39;00m))\n\u001b[0;32m    481\u001b[0m \u001b[38;5;66;03m# Create the parser.\u001b[39;00m\n\u001b[1;32m--> 482\u001b[0m parser \u001b[38;5;241m=\u001b[39m TextFileReader(filepath_or_buffer, \u001b[38;5;241m*\u001b[39m\u001b[38;5;241m*\u001b[39mkwds)\n\u001b[0;32m    484\u001b[0m \u001b[38;5;28;01mif\u001b[39;00m chunksize \u001b[38;5;129;01mor\u001b[39;00m iterator:\n\u001b[0;32m    485\u001b[0m     \u001b[38;5;28;01mreturn\u001b[39;00m parser\n",
      "File \u001b[1;32mc:\\users\\javi3\\appdata\\local\\programs\\python\\python39\\lib\\site-packages\\pandas\\io\\parsers\\readers.py:811\u001b[0m, in \u001b[0;36mTextFileReader.__init__\u001b[1;34m(self, f, engine, **kwds)\u001b[0m\n\u001b[0;32m    808\u001b[0m \u001b[38;5;28;01mif\u001b[39;00m \u001b[38;5;124m\"\u001b[39m\u001b[38;5;124mhas_index_names\u001b[39m\u001b[38;5;124m\"\u001b[39m \u001b[38;5;129;01min\u001b[39;00m kwds:\n\u001b[0;32m    809\u001b[0m     \u001b[38;5;28mself\u001b[39m\u001b[38;5;241m.\u001b[39moptions[\u001b[38;5;124m\"\u001b[39m\u001b[38;5;124mhas_index_names\u001b[39m\u001b[38;5;124m\"\u001b[39m] \u001b[38;5;241m=\u001b[39m kwds[\u001b[38;5;124m\"\u001b[39m\u001b[38;5;124mhas_index_names\u001b[39m\u001b[38;5;124m\"\u001b[39m]\n\u001b[1;32m--> 811\u001b[0m \u001b[38;5;28mself\u001b[39m\u001b[38;5;241m.\u001b[39m_engine \u001b[38;5;241m=\u001b[39m \u001b[38;5;28;43mself\u001b[39;49m\u001b[38;5;241;43m.\u001b[39;49m\u001b[43m_make_engine\u001b[49m\u001b[43m(\u001b[49m\u001b[38;5;28;43mself\u001b[39;49m\u001b[38;5;241;43m.\u001b[39;49m\u001b[43mengine\u001b[49m\u001b[43m)\u001b[49m\n",
      "File \u001b[1;32mc:\\users\\javi3\\appdata\\local\\programs\\python\\python39\\lib\\site-packages\\pandas\\io\\parsers\\readers.py:1040\u001b[0m, in \u001b[0;36mTextFileReader._make_engine\u001b[1;34m(self, engine)\u001b[0m\n\u001b[0;32m   1036\u001b[0m     \u001b[38;5;28;01mraise\u001b[39;00m \u001b[38;5;167;01mValueError\u001b[39;00m(\n\u001b[0;32m   1037\u001b[0m         \u001b[38;5;124mf\u001b[39m\u001b[38;5;124m\"\u001b[39m\u001b[38;5;124mUnknown engine: \u001b[39m\u001b[38;5;132;01m{\u001b[39;00mengine\u001b[38;5;132;01m}\u001b[39;00m\u001b[38;5;124m (valid options are \u001b[39m\u001b[38;5;132;01m{\u001b[39;00mmapping\u001b[38;5;241m.\u001b[39mkeys()\u001b[38;5;132;01m}\u001b[39;00m\u001b[38;5;124m)\u001b[39m\u001b[38;5;124m\"\u001b[39m\n\u001b[0;32m   1038\u001b[0m     )\n\u001b[0;32m   1039\u001b[0m \u001b[38;5;66;03m# error: Too many arguments for \"ParserBase\"\u001b[39;00m\n\u001b[1;32m-> 1040\u001b[0m \u001b[38;5;28;01mreturn\u001b[39;00m mapping[engine](\u001b[38;5;28mself\u001b[39m\u001b[38;5;241m.\u001b[39mf, \u001b[38;5;241m*\u001b[39m\u001b[38;5;241m*\u001b[39m\u001b[38;5;28mself\u001b[39m\u001b[38;5;241m.\u001b[39moptions)\n",
      "File \u001b[1;32mc:\\users\\javi3\\appdata\\local\\programs\\python\\python39\\lib\\site-packages\\pandas\\io\\parsers\\c_parser_wrapper.py:51\u001b[0m, in \u001b[0;36mCParserWrapper.__init__\u001b[1;34m(self, src, **kwds)\u001b[0m\n\u001b[0;32m     48\u001b[0m kwds[\u001b[38;5;124m\"\u001b[39m\u001b[38;5;124musecols\u001b[39m\u001b[38;5;124m\"\u001b[39m] \u001b[38;5;241m=\u001b[39m \u001b[38;5;28mself\u001b[39m\u001b[38;5;241m.\u001b[39musecols\n\u001b[0;32m     50\u001b[0m \u001b[38;5;66;03m# open handles\u001b[39;00m\n\u001b[1;32m---> 51\u001b[0m \u001b[38;5;28;43mself\u001b[39;49m\u001b[38;5;241;43m.\u001b[39;49m\u001b[43m_open_handles\u001b[49m\u001b[43m(\u001b[49m\u001b[43msrc\u001b[49m\u001b[43m,\u001b[49m\u001b[43m \u001b[49m\u001b[43mkwds\u001b[49m\u001b[43m)\u001b[49m\n\u001b[0;32m     52\u001b[0m \u001b[38;5;28;01massert\u001b[39;00m \u001b[38;5;28mself\u001b[39m\u001b[38;5;241m.\u001b[39mhandles \u001b[38;5;129;01mis\u001b[39;00m \u001b[38;5;129;01mnot\u001b[39;00m \u001b[38;5;28;01mNone\u001b[39;00m\n\u001b[0;32m     54\u001b[0m \u001b[38;5;66;03m# Have to pass int, would break tests using TextReader directly otherwise :(\u001b[39;00m\n",
      "File \u001b[1;32mc:\\users\\javi3\\appdata\\local\\programs\\python\\python39\\lib\\site-packages\\pandas\\io\\parsers\\base_parser.py:222\u001b[0m, in \u001b[0;36mParserBase._open_handles\u001b[1;34m(self, src, kwds)\u001b[0m\n\u001b[0;32m    218\u001b[0m \u001b[38;5;28;01mdef\u001b[39;00m \u001b[38;5;21m_open_handles\u001b[39m(\u001b[38;5;28mself\u001b[39m, src: FilePathOrBuffer, kwds: \u001b[38;5;28mdict\u001b[39m[\u001b[38;5;28mstr\u001b[39m, Any]) \u001b[38;5;241m-\u001b[39m\u001b[38;5;241m>\u001b[39m \u001b[38;5;28;01mNone\u001b[39;00m:\n\u001b[0;32m    219\u001b[0m     \u001b[38;5;124;03m\"\"\"\u001b[39;00m\n\u001b[0;32m    220\u001b[0m \u001b[38;5;124;03m    Let the readers open IOHandles after they are done with their potential raises.\u001b[39;00m\n\u001b[0;32m    221\u001b[0m \u001b[38;5;124;03m    \"\"\"\u001b[39;00m\n\u001b[1;32m--> 222\u001b[0m     \u001b[38;5;28mself\u001b[39m\u001b[38;5;241m.\u001b[39mhandles \u001b[38;5;241m=\u001b[39m \u001b[43mget_handle\u001b[49m\u001b[43m(\u001b[49m\n\u001b[0;32m    223\u001b[0m \u001b[43m        \u001b[49m\u001b[43msrc\u001b[49m\u001b[43m,\u001b[49m\n\u001b[0;32m    224\u001b[0m \u001b[43m        \u001b[49m\u001b[38;5;124;43m\"\u001b[39;49m\u001b[38;5;124;43mr\u001b[39;49m\u001b[38;5;124;43m\"\u001b[39;49m\u001b[43m,\u001b[49m\n\u001b[0;32m    225\u001b[0m \u001b[43m        \u001b[49m\u001b[43mencoding\u001b[49m\u001b[38;5;241;43m=\u001b[39;49m\u001b[43mkwds\u001b[49m\u001b[38;5;241;43m.\u001b[39;49m\u001b[43mget\u001b[49m\u001b[43m(\u001b[49m\u001b[38;5;124;43m\"\u001b[39;49m\u001b[38;5;124;43mencoding\u001b[39;49m\u001b[38;5;124;43m\"\u001b[39;49m\u001b[43m,\u001b[49m\u001b[43m \u001b[49m\u001b[38;5;28;43;01mNone\u001b[39;49;00m\u001b[43m)\u001b[49m\u001b[43m,\u001b[49m\n\u001b[0;32m    226\u001b[0m \u001b[43m        \u001b[49m\u001b[43mcompression\u001b[49m\u001b[38;5;241;43m=\u001b[39;49m\u001b[43mkwds\u001b[49m\u001b[38;5;241;43m.\u001b[39;49m\u001b[43mget\u001b[49m\u001b[43m(\u001b[49m\u001b[38;5;124;43m\"\u001b[39;49m\u001b[38;5;124;43mcompression\u001b[39;49m\u001b[38;5;124;43m\"\u001b[39;49m\u001b[43m,\u001b[49m\u001b[43m \u001b[49m\u001b[38;5;28;43;01mNone\u001b[39;49;00m\u001b[43m)\u001b[49m\u001b[43m,\u001b[49m\n\u001b[0;32m    227\u001b[0m \u001b[43m        \u001b[49m\u001b[43mmemory_map\u001b[49m\u001b[38;5;241;43m=\u001b[39;49m\u001b[43mkwds\u001b[49m\u001b[38;5;241;43m.\u001b[39;49m\u001b[43mget\u001b[49m\u001b[43m(\u001b[49m\u001b[38;5;124;43m\"\u001b[39;49m\u001b[38;5;124;43mmemory_map\u001b[39;49m\u001b[38;5;124;43m\"\u001b[39;49m\u001b[43m,\u001b[49m\u001b[43m \u001b[49m\u001b[38;5;28;43;01mFalse\u001b[39;49;00m\u001b[43m)\u001b[49m\u001b[43m,\u001b[49m\n\u001b[0;32m    228\u001b[0m \u001b[43m        \u001b[49m\u001b[43mstorage_options\u001b[49m\u001b[38;5;241;43m=\u001b[39;49m\u001b[43mkwds\u001b[49m\u001b[38;5;241;43m.\u001b[39;49m\u001b[43mget\u001b[49m\u001b[43m(\u001b[49m\u001b[38;5;124;43m\"\u001b[39;49m\u001b[38;5;124;43mstorage_options\u001b[39;49m\u001b[38;5;124;43m\"\u001b[39;49m\u001b[43m,\u001b[49m\u001b[43m \u001b[49m\u001b[38;5;28;43;01mNone\u001b[39;49;00m\u001b[43m)\u001b[49m\u001b[43m,\u001b[49m\n\u001b[0;32m    229\u001b[0m \u001b[43m        \u001b[49m\u001b[43merrors\u001b[49m\u001b[38;5;241;43m=\u001b[39;49m\u001b[43mkwds\u001b[49m\u001b[38;5;241;43m.\u001b[39;49m\u001b[43mget\u001b[49m\u001b[43m(\u001b[49m\u001b[38;5;124;43m\"\u001b[39;49m\u001b[38;5;124;43mencoding_errors\u001b[39;49m\u001b[38;5;124;43m\"\u001b[39;49m\u001b[43m,\u001b[49m\u001b[43m \u001b[49m\u001b[38;5;124;43m\"\u001b[39;49m\u001b[38;5;124;43mstrict\u001b[39;49m\u001b[38;5;124;43m\"\u001b[39;49m\u001b[43m)\u001b[49m\u001b[43m,\u001b[49m\n\u001b[0;32m    230\u001b[0m \u001b[43m    \u001b[49m\u001b[43m)\u001b[49m\n",
      "File \u001b[1;32mc:\\users\\javi3\\appdata\\local\\programs\\python\\python39\\lib\\site-packages\\pandas\\io\\common.py:702\u001b[0m, in \u001b[0;36mget_handle\u001b[1;34m(path_or_buf, mode, encoding, compression, memory_map, is_text, errors, storage_options)\u001b[0m\n\u001b[0;32m    697\u001b[0m \u001b[38;5;28;01melif\u001b[39;00m \u001b[38;5;28misinstance\u001b[39m(handle, \u001b[38;5;28mstr\u001b[39m):\n\u001b[0;32m    698\u001b[0m     \u001b[38;5;66;03m# Check whether the filename is to be opened in binary mode.\u001b[39;00m\n\u001b[0;32m    699\u001b[0m     \u001b[38;5;66;03m# Binary mode does not support 'encoding' and 'newline'.\u001b[39;00m\n\u001b[0;32m    700\u001b[0m     \u001b[38;5;28;01mif\u001b[39;00m ioargs\u001b[38;5;241m.\u001b[39mencoding \u001b[38;5;129;01mand\u001b[39;00m \u001b[38;5;124m\"\u001b[39m\u001b[38;5;124mb\u001b[39m\u001b[38;5;124m\"\u001b[39m \u001b[38;5;129;01mnot\u001b[39;00m \u001b[38;5;129;01min\u001b[39;00m ioargs\u001b[38;5;241m.\u001b[39mmode:\n\u001b[0;32m    701\u001b[0m         \u001b[38;5;66;03m# Encoding\u001b[39;00m\n\u001b[1;32m--> 702\u001b[0m         handle \u001b[38;5;241m=\u001b[39m \u001b[38;5;28;43mopen\u001b[39;49m\u001b[43m(\u001b[49m\n\u001b[0;32m    703\u001b[0m \u001b[43m            \u001b[49m\u001b[43mhandle\u001b[49m\u001b[43m,\u001b[49m\n\u001b[0;32m    704\u001b[0m \u001b[43m            \u001b[49m\u001b[43mioargs\u001b[49m\u001b[38;5;241;43m.\u001b[39;49m\u001b[43mmode\u001b[49m\u001b[43m,\u001b[49m\n\u001b[0;32m    705\u001b[0m \u001b[43m            \u001b[49m\u001b[43mencoding\u001b[49m\u001b[38;5;241;43m=\u001b[39;49m\u001b[43mioargs\u001b[49m\u001b[38;5;241;43m.\u001b[39;49m\u001b[43mencoding\u001b[49m\u001b[43m,\u001b[49m\n\u001b[0;32m    706\u001b[0m \u001b[43m            \u001b[49m\u001b[43merrors\u001b[49m\u001b[38;5;241;43m=\u001b[39;49m\u001b[43merrors\u001b[49m\u001b[43m,\u001b[49m\n\u001b[0;32m    707\u001b[0m \u001b[43m            \u001b[49m\u001b[43mnewline\u001b[49m\u001b[38;5;241;43m=\u001b[39;49m\u001b[38;5;124;43m\"\u001b[39;49m\u001b[38;5;124;43m\"\u001b[39;49m\u001b[43m,\u001b[49m\n\u001b[0;32m    708\u001b[0m \u001b[43m        \u001b[49m\u001b[43m)\u001b[49m\n\u001b[0;32m    709\u001b[0m     \u001b[38;5;28;01melse\u001b[39;00m:\n\u001b[0;32m    710\u001b[0m         \u001b[38;5;66;03m# Binary mode\u001b[39;00m\n\u001b[0;32m    711\u001b[0m         handle \u001b[38;5;241m=\u001b[39m \u001b[38;5;28mopen\u001b[39m(handle, ioargs\u001b[38;5;241m.\u001b[39mmode)\n",
      "\u001b[1;31mFileNotFoundError\u001b[0m: [Errno 2] No such file or directory: 'final.csv'"
     ]
    }
   ],
   "source": [
    "# Cargar los datos\n",
    "deaths = pd.read_csv('final.csv')\n",
    "# Como ya se cuenta con la causa de muerte (categorizada) la descripción sale sobrando\n",
    "# De igual forma, el periodo de edad se puede obtener mediante la edad así que es info redundante\n",
    "deaths = deaths.loc[:, deaths.columns != 'Perdif']\n",
    "deaths = deaths.loc[:, deaths.columns != 'caudef.descrip']"
   ]
  },
  {
   "cell_type": "markdown",
   "metadata": {},
   "source": [
    "# Exploración de los datos\n",
    "\n",
    "## ¿Cuáles son los datos?\n",
    "Comience describiendo cuantas variables y observaciones tiene disponibles, el tipo de cada una de las variables."
   ]
  },
  {
   "cell_type": "code",
   "execution_count": null,
   "metadata": {
    "pycharm": {
     "name": "#%%\n"
    }
   },
   "outputs": [],
   "source": [
    "deaths.shape"
   ]
  },
  {
   "cell_type": "markdown",
   "metadata": {
    "pycharm": {
     "name": "#%% md\n"
    }
   },
   "source": [
    "Para la elaboración del análisis se cuenta con los datos encontrados en la página del Instituto Nacional de Estadística\n",
    "de Guatemala -INE- para las defunciones del rango de años desde 2011 a 2020. Al unificar los datos provistos en cada uno\n",
    "de los años, en total, se cuenta con 809296 observaciones y con un total de 28 variables."
   ]
  },
  {
   "cell_type": "markdown",
   "metadata": {
    "pycharm": {
     "name": "#%% md\n"
    }
   },
   "source": [
    "### Clasificación de variables\n",
    "**Cuantitativas discretas**\n",
    "- EDADIF → Edad del difunto\n",
    "\n",
    "**Cualitativas Ordinal**\n",
    "- ESCODIF → Escolaridad del difunto\n",
    "\n",
    "**Cualitativa Nominal**\n",
    "- DEPREG → Departamento de registro\n",
    "- MUPREG → Municipio de registro\n",
    "- MESREG → Mes de registro\n",
    "- AÑOREG → Año de registro\n",
    "- DEPOCU → Departamento de ocurrencia\n",
    "- MUPOCU → Municipio de ocurrencia\n",
    "- AREGAG → Área geográfica de ocurrencia\n",
    "- SEXO\n",
    "- DIAOCU → Día de ocurrencia\n",
    "- MESOCU → Mes de ocurrencia\n",
    "- AÑOOCU → Año de ocurrencia\n",
    "- PUEDIF → Pueblo de pertenencia del difunto\n",
    "- ECIDIF → Estado civil del difunto\n",
    "- CIUODIF → Ocupación del difunto\n",
    "- PNADIF → País de nacimiento\n",
    "- DNADIF → Departamento de nacimiento\n",
    "- MNADIF → Municipio de nacimiento\n",
    "- NACDIF → Nacionalidad del difunto\n",
    "- PREDIF → País de residencia\n",
    "- DREDIF → Departamento de residencia\n",
    "- MREDIF → Municipio de residencia\n",
    "- CAUDEF → Causa de defunción\n",
    "- ASIST → Asistencia recibida\n",
    "- OCUR → Sitio de ocurrencia\n",
    "- CERDEF → Quién certifica"
   ]
  },
  {
   "cell_type": "markdown",
   "metadata": {},
   "source": [
    "## Preprocesamiento \n",
    "Análisis de valores atípicos y tratamientos de valores faltantes\n",
    "\n",
    "Cabe destacar que, aunque los datos sobre los defunciones fueron recolectados de la misma fuente, los datos seguían diferentes esquemas.\n",
    "Por ejemplo, a partir del año 2012 se dejó de documentar la \"ubicación geográfica\". Otro desafío que se encontró fue la ocupación.\n",
    "Aunque a lo largo de todos los años se agrupaban las diferentes ocupaciones de los difuntos en diferentes grupos, las clasificaciones cambiaron entre los años.\n",
    "En los años 2011-2013 habían 188 categorías de empleo, pero a partir del año 2014 únicamente se trabajó con 45 categorías de ocupación.\n",
    "En estos casos, simplemente se convirtió manualmente las antiguas ocupaciones a su equivalente más cercano de las nuevas ocupaciones.\n",
    "\n",
    "Fuera de esto, también se unificaron los nombres de los diferentes departamentos. Por ejemplo, en algunos años lo documentaron como\n",
    "\"Quiche\" y en otros \"Quiché\". Finalmente, para facilitar la realización de cálculos matemáticos, se reemplazó el valor \"Ignorado\"\n",
    "de la edad del difunto por -1."
   ]
  },
  {
   "cell_type": "code",
   "execution_count": null,
   "metadata": {},
   "outputs": [],
   "source": [
    "# Debido a que edad se tomará como variable cuantitativa será necesario reeplazar el valor de ignorado por -1 para que todos\n",
    "# los datos estén en el mismo formato\n",
    "deaths['Edadif'] = deaths['Edadif'].replace(['Ignorado'], -1)\n",
    "deaths['Edadif'] = deaths['Edadif'].astype('int')"
   ]
  },
  {
   "cell_type": "code",
   "execution_count": null,
   "metadata": {},
   "outputs": [],
   "source": [
    "#Se observó que los datos que registraban los departamentos en algunos años se escribían con ascento y en otros no\n"
   ]
  },
  {
   "cell_type": "code",
   "execution_count": null,
   "metadata": {
    "pycharm": {
     "name": "#%%\n"
    }
   },
   "outputs": [],
   "source": [
    "deaths['cause'] = deaths['Caudef'].copy()\n",
    "\n",
    "# deaths.cause = deaths.cause.str.replace(r'\\d+.*', r'\\1', regex=True)\n",
    "repl = {r'([AB])(\\d+.*)' : r'AB',\n",
    "        r'(C)(\\d+.*)' : r'CD',\n",
    "        r'(D[0-4])(\\d+.*)' : r'CD',\n",
    "        r'(D[5-8])(\\d+.*)' : r'DD',\n",
    "        r'(E)(\\d+.*)' : r'EE',\n",
    "        r'(F)(\\d+.*)' : r'FF',\n",
    "        r'(G)(\\d+.*)' : r'GG',\n",
    "        r'(H[0-5])(\\d+.*)' : r'HA',\n",
    "        r'(H[6-9])(\\d+.*)' : r'HB',\n",
    "        r'(I)(\\d+.*)' : r'II',\n",
    "        r'(J)(\\d+.*)' : r'JJ',\n",
    "        r'(K)(\\d+.*)' : r'KK',\n",
    "        r'(L)(\\d+.*)' : r'LL',\n",
    "        r'(M)(\\d+.*)' : r'MM',\n",
    "        r'(N)(\\d+.*)' : r'NN',\n",
    "        r'(O)(\\d+.*)' : r'OO',\n",
    "        r'(P)(\\d+.*)' : r'PP',\n",
    "        r'(Q)(\\d+.*)' : r'QQ',\n",
    "        r'(R[0-8])(\\d+.*)' : r'RR',\n",
    "        r'(R9)(\\d+.*)' : r'RA',\n",
    "        r'([ST])(\\d+.*)' : r'ST',\n",
    "        r'([VWXY])(\\d+.*)' : r'VY',\n",
    "        r'([Z])(\\d+.*)' : r'ZZ',\n",
    "        r'([U])(\\d+.*)' : r'UU',\n",
    "        }\n",
    "deaths.cause = deaths['cause'].replace(repl, regex=True)\n",
    "deaths['cause']"
   ]
  },
  {
   "cell_type": "markdown",
   "metadata": {},
   "source": [
    "Para utilizar las causas de las muertes en los análisis de los datos, debido a que existían varias categorías,\n",
    "se decidió agregar una capa extra de abstracción de las causas, esto principalmente para analizar las causas de muertes\n",
    "como naturales o por accidentes y sobre enfermedades generales. La nueva categorización de las causas de muerte se guardó\n",
    "en una nueva columna con el nombre de *cause* y sus valores identifican las siguientes causas:\n",
    "- AB → Enfermedades infeccionas y parasitarias\n",
    "- CD → Neoplasias (Cáncer)\n",
    "- DD → Enfermedades de la sangre y órganos hematopoyéticos y ciertos trastornos que afectan al mecanismo inmunológico\n",
    "- EE → Enfermedades endocrinas, nutricionales y metabólicas\n",
    "- GG → Enfermedades del sistema nervioso\n",
    "- H0 → Enfermedades del ojo y sus anexos\n",
    "- H6 → Enfermedades del oído y de la apósfisis mastoides\n",
    "- II → Enfermedades del aparato circulatorio\n",
    "- JJ → Enfermedades del aparato respiratorio\n",
    "- KK → Enfermedades del aparato digestivo\n",
    "- LL → Enfermedades de la piel y del tejido subcutáneo\n",
    "- MM → Enfermedades del aparato musculoesquelético y del tejido conectivo\n",
    "- NN → Enfermedades del aparato genitourinario\n",
    "- OO → Embarazo, parto, puerperio\n",
    "- PP → Ciertas afecciones originadas en el periodo perinatal\n",
    "- QQ → Malformaciones congénitas, deformidades y anomalías cromosómicas\n",
    "- RR → Sintomas, signos y resultados anormales de pruebas complementarias, no clasificados bajo otro concepto\n",
    "- ST → Lesiones traumáticas, envenenamiento y otras consecuencias de causas externas\n",
    "- VY → Causas externas de morbilidad\n",
    "- ZZ → Factores que influyen en el estado de salud y contacto con los servicios sanitarios\n",
    "- UU → Propósitos especiales"
   ]
  },
  {
   "cell_type": "markdown",
   "metadata": {},
   "source": [
    "## Variables cuantitativas y su distribución\n",
    "Haga un resumen de las variables numéricas e investigue si siguen una distribución normal.\n"
   ]
  },
  {
   "cell_type": "code",
   "execution_count": null,
   "metadata": {
    "pycharm": {
     "name": "#%%\n"
    }
   },
   "outputs": [],
   "source": [
    "display(deaths['Edadif'].describe())\n",
    "\n",
    "if is_normal(deaths['Edadif']):\n",
    "    print(f'La edad tiene una distribución normal.')\n",
    "else:\n",
    "     print(f'La edad NO tiene una distribución normal.')"
   ]
  },
  {
   "cell_type": "markdown",
   "metadata": {
    "pycharm": {
     "name": "#%% md\n"
    }
   },
   "source": [
    "Como se puede notar en los resultados anteriores, la edad promedio para las muertes reportadas de 2011 a 2020 es de\n",
    "aproximadamente 54 años, eso quiere decir que de los datos reportados, la mayoría están en un rango de fallecer a los\n",
    "53 a 54 años, esto también se puede notar en que el 50% de los difuntos están por debajo de 60 años de estos un 25% se\n",
    "encuentra por debajo de 31."
   ]
  },
  {
   "cell_type": "markdown",
   "metadata": {},
   "source": [
    "## Variables cualitativas y su frecuencia\n",
    "Elabore tablas de frecuencia para las variables categóricas, escriba lo que vaya encontrando."
   ]
  },
  {
   "cell_type": "markdown",
   "metadata": {},
   "source": [
    "### Departamento de registro\n",
    "Guatemala presenta la mayor cantidad de muertes registradas. Esto era de esperarse, puesto que la densidad poblacional es\n",
    "mucho mayor en comparación con los demás departamentos. Luego le sigue Quetzaltenango, al igual que Guatemala, este es\n",
    "un departamento con una alta densidad poblacional."
   ]
  },
  {
   "cell_type": "code",
   "execution_count": null,
   "metadata": {},
   "outputs": [],
   "source": [
    "depreg = calculate_frequency(deaths, 'Depreg', use=True)\n",
    "\n",
    "plt.figure(figsize=(10, 6))\n",
    "ax = sns.barplot(x='Depreg', y='frequency', data=depreg)\n",
    "ax.set(title='Gráfico 1. Registro de defunciones por departamento de 2011-2020',\n",
    "       xlabel= 'Departamento de registro',\n",
    "       ylabel='Frecuencia')\n",
    "plt.xticks(rotation=90)\n",
    "plt.show()\n",
    "\n",
    "del depreg, ax"
   ]
  },
  {
   "cell_type": "markdown",
   "metadata": {},
   "source": [
    "### Municipio de registro"
   ]
  },
  {
   "cell_type": "code",
   "execution_count": null,
   "metadata": {},
   "outputs": [],
   "source": [
    "# Para no mostrar muchos datos, solo poner un head de 20\n",
    "calculate_frequency(deaths, 'Mupreg', head=True)"
   ]
  },
  {
   "cell_type": "markdown",
   "metadata": {},
   "source": [
    "### Mes de registro"
   ]
  },
  {
   "cell_type": "code",
   "execution_count": null,
   "metadata": {},
   "outputs": [],
   "source": [
    "calculate_frequency(deaths, 'Mesreg')"
   ]
  },
  {
   "cell_type": "markdown",
   "metadata": {},
   "source": [
    "### Año de registro\n",
    "La mayor cantidad de muertes se dió en el 2020. Podríamos relacionarlo al inicio de la Pandemia, puesto que hubo un aumento\n",
    "a comparación del 2019 de 9,624 muertes"
   ]
  },
  {
   "cell_type": "code",
   "execution_count": null,
   "metadata": {},
   "outputs": [],
   "source": [
    "calculate_frequency(deaths, 'Añoreg')"
   ]
  },
  {
   "cell_type": "markdown",
   "metadata": {},
   "source": [
    "### Departamento de ocurrencia"
   ]
  },
  {
   "cell_type": "code",
   "execution_count": null,
   "metadata": {},
   "outputs": [],
   "source": [
    "calculate_frequency(deaths, 'Depocu')"
   ]
  },
  {
   "cell_type": "markdown",
   "metadata": {},
   "source": [
    "### Municipio de ocurrencia"
   ]
  },
  {
   "cell_type": "code",
   "execution_count": null,
   "metadata": {},
   "outputs": [],
   "source": [
    "calculate_frequency(deaths, 'Mupocu', head=True)"
   ]
  },
  {
   "cell_type": "markdown",
   "metadata": {},
   "source": [
    "### Área geográfica de ocurrencia"
   ]
  },
  {
   "cell_type": "code",
   "execution_count": null,
   "metadata": {},
   "outputs": [],
   "source": [
    "calculate_frequency(deaths, 'Areag')"
   ]
  },
  {
   "cell_type": "markdown",
   "metadata": {},
   "source": [
    "### Sexo"
   ]
  },
  {
   "cell_type": "code",
   "execution_count": null,
   "metadata": {},
   "outputs": [],
   "source": [
    "calculate_frequency(deaths, 'Sexo')"
   ]
  },
  {
   "cell_type": "markdown",
   "metadata": {},
   "source": [
    "### Día de ocurrencia"
   ]
  },
  {
   "cell_type": "code",
   "execution_count": null,
   "metadata": {},
   "outputs": [],
   "source": [
    "calculate_frequency(deaths, 'Diaocu')"
   ]
  },
  {
   "cell_type": "markdown",
   "metadata": {},
   "source": [
    "### Mes de ocurrencia\n",
    "\n",
    "Como se puede observar en la **gráfica 7**, los meses 3 con mayores defunciones son:\n",
    "- Julio con 73553 muertes reportas,\n",
    "- Agosto con 69865\n",
    "- Diciembre con 69332\n",
    "\n",
    "Es curioso ver como en el mes de julio es donde se dan la mayor cantidad de muertes. Podemos relacionarlo con el pago de\n",
    "la bonificación del bono 14, ya que en este mes las extorsiones aumentan. Esto nos indica que el índice de violencia puede\n",
    "ser superior por dicho bono, por lo que las muertes aumentan. Para julio de 2020 además, se tuvieron picos en la pandemia\n",
    "Covid-19, lo que quizá pudo darle peso a esta variable."
   ]
  },
  {
   "cell_type": "code",
   "execution_count": null,
   "metadata": {},
   "outputs": [],
   "source": [
    "mesocu = calculate_frequency(deaths, 'Mesocu', use=True)\n",
    "\n",
    "ax = sns.barplot(x='Mesocu', y='frequency', data=mesocu);\n",
    "ax.set(title='Gráfico 2. Defunciones de 2011-2020 por mes de ocurrencia',\n",
    "       xlabel= 'Mes de ocurrencia',\n",
    "       ylabel='Frecuencia')\n",
    "plt.xticks(rotation=90)\n",
    "plt.show()\n",
    "\n",
    "del mesocu, ax"
   ]
  },
  {
   "cell_type": "markdown",
   "metadata": {},
   "source": [
    "### Año de ocurrencia"
   ]
  },
  {
   "cell_type": "code",
   "execution_count": null,
   "metadata": {},
   "outputs": [],
   "source": [
    "calculate_frequency(deaths, 'Añoocu')"
   ]
  },
  {
   "cell_type": "markdown",
   "metadata": {},
   "source": [
    "### Pueblo de pertenencia"
   ]
  },
  {
   "cell_type": "code",
   "execution_count": null,
   "metadata": {},
   "outputs": [],
   "source": [
    "calculate_frequency(deaths, 'Puedif')"
   ]
  },
  {
   "cell_type": "markdown",
   "metadata": {},
   "source": [
    "### Estado civil del difunto\n",
    "\n",
    "#### ¿Cuál es el estado civil predominante en las muertes?\n",
    "Como se puede notar en el gráfico inferior, el estado civil predominante en las defunciones es el soltero. Este es un resultado esperado, ya que\n",
    "dentro de los datos se encuentran personas de todas las edades, por lo que muchos de los fallecidos son aún niños cuando mueren, por lo tal, su\n",
    "estado civil es soltero, y también están todos aquellos que mueren a una edad relativamente joven por lo que aún no han contraído matrimonio."
   ]
  },
  {
   "cell_type": "code",
   "execution_count": null,
   "metadata": {
    "pycharm": {
     "name": "#%%\n"
    }
   },
   "outputs": [],
   "source": [
    "estado = calculate_frequency(deaths, 'Ecidif', use=True)\n",
    "\n",
    "ax = sns.barplot(x='Ecidif',y='frequency',data=estado)\n",
    "ax.set(title='Gráfico 3. Estado civil de los difuntos reportados de 2011-2020',\n",
    "       xlabel= 'Estado civil',\n",
    "       ylabel='Frecuencia')\n",
    "plt.xticks(rotation=90)\n",
    "plt.show()\n",
    "\n",
    "del estado, ax"
   ]
  },
  {
   "cell_type": "markdown",
   "metadata": {},
   "source": [
    "### Escolaridad del difunto\n",
    "¿Influye el tener una educación superior a reducir el número de defunciones?\n",
    "La mayoría de muertes se dan en personas con escolaridad nula. Es interesante observar como estudiantes\n",
    "universitarios y de posgrado son los que presentan la menor cantidad de muertes en los últimos 10 años."
   ]
  },
  {
   "cell_type": "code",
   "execution_count": null,
   "metadata": {},
   "outputs": [],
   "source": [
    "escodif = calculate_frequency(deaths, 'Escodif', use=True)\n",
    "\n",
    "ax = sns.barplot(x= 'Escodif', y='frequency', data=escodif)\n",
    "ax.set(title='Gráfico 4. Escolaridad de los difuntos reportados de 2011-2020',\n",
    "       xlabel= 'Escolaridad',\n",
    "       ylabel='Frecuencia')\n",
    "plt.xticks(rotation=90)\n",
    "plt.show()\n",
    "\n",
    "del escodif, ax"
   ]
  },
  {
   "cell_type": "markdown",
   "metadata": {},
   "source": [
    "### Ocupación del difunto"
   ]
  },
  {
   "cell_type": "code",
   "execution_count": null,
   "metadata": {},
   "outputs": [],
   "source": [
    "calculate_frequency(deaths, 'Ciuodif', head=True)"
   ]
  },
  {
   "cell_type": "markdown",
   "metadata": {},
   "source": [
    "### País de nacimiento"
   ]
  },
  {
   "cell_type": "code",
   "execution_count": null,
   "metadata": {},
   "outputs": [],
   "source": [
    "calculate_frequency(deaths, 'Pnadif', head=True)"
   ]
  },
  {
   "cell_type": "markdown",
   "metadata": {},
   "source": [
    "### Departamento de nacimiento"
   ]
  },
  {
   "cell_type": "code",
   "execution_count": null,
   "metadata": {},
   "outputs": [],
   "source": [
    "calculate_frequency(deaths, 'Dnadif')"
   ]
  },
  {
   "cell_type": "markdown",
   "metadata": {},
   "source": [
    "### Municipio de nacimiento"
   ]
  },
  {
   "cell_type": "code",
   "execution_count": null,
   "metadata": {},
   "outputs": [],
   "source": [
    "calculate_frequency(deaths, 'Mnadif', head=True)"
   ]
  },
  {
   "cell_type": "markdown",
   "metadata": {},
   "source": [
    "### Nacionalidad del difunto"
   ]
  },
  {
   "cell_type": "code",
   "execution_count": null,
   "metadata": {},
   "outputs": [],
   "source": [
    "calculate_frequency(deaths, 'Nacdif')"
   ]
  },
  {
   "cell_type": "markdown",
   "metadata": {},
   "source": [
    "### País de residencia"
   ]
  },
  {
   "cell_type": "code",
   "execution_count": null,
   "metadata": {},
   "outputs": [],
   "source": [
    "calculate_frequency(deaths, 'Predif')"
   ]
  },
  {
   "cell_type": "markdown",
   "metadata": {},
   "source": [
    "### Departamento de residencia"
   ]
  },
  {
   "cell_type": "code",
   "execution_count": null,
   "metadata": {},
   "outputs": [],
   "source": [
    "calculate_frequency(deaths, 'Dredif')"
   ]
  },
  {
   "cell_type": "markdown",
   "metadata": {},
   "source": [
    "### Municipio de residencia"
   ]
  },
  {
   "cell_type": "code",
   "execution_count": null,
   "metadata": {},
   "outputs": [],
   "source": [
    "calculate_frequency(deaths, 'Mredif', head=True)"
   ]
  },
  {
   "cell_type": "markdown",
   "metadata": {},
   "source": [
    "### Causa de defunción"
   ]
  },
  {
   "cell_type": "code",
   "execution_count": null,
   "metadata": {},
   "outputs": [],
   "source": [
    "calculate_frequency(deaths, 'cause', head=True, size=30)"
   ]
  },
  {
   "cell_type": "markdown",
   "metadata": {},
   "source": [
    "### Asistencia recibida\n",
    "\n",
    "#### ¿Cuál es el tipo de asistencia recibida predominante en las defunciones?\n",
    "Como se puede observar en el gráfico 2, en un 48% de las defunciones no se recibió ningún tipo de asistencia, sin\n",
    "embargo, algo interesante a notar es que un 47% de los difuntos recibieron asistencia médica. Dejando así solo aproximadamente\n",
    "un 1% de diferencia entre la asistencia predominante y la segunda más utilizada.\n"
   ]
  },
  {
   "cell_type": "code",
   "execution_count": null,
   "metadata": {
    "pycharm": {
     "name": "#%%\n"
    }
   },
   "outputs": [],
   "source": [
    "assist = calculate_frequency(deaths, 'Asist', use=True)\n",
    "\n",
    "ax = sns.barplot(x='Asist',y='frequency',data=assist)\n",
    "ax.set(title='Gráfico 5. Tipo de asistencia recibida por los difuntos reportados de 2011-2020',\n",
    "       xlabel= 'Tipo de asistencia',\n",
    "       ylabel='Frecuencia')\n",
    "plt.xticks(rotation=90)\n",
    "plt.show()\n",
    "del assist, ax"
   ]
  },
  {
   "cell_type": "markdown",
   "metadata": {},
   "source": [
    "### Sitio de ocurrencia\n",
    "\n",
    "### ¿Cuál es la proporción de personas que mueren en sus casas con respecto a las que mueren en hospitales?\n",
    "Como se puede observar en el **gráfico 3** el principal sitio de ocurrencia de las muertes en en los domicilios de los difuntos, estos\n",
    "representando un 69% de las muertes reportadas, y es destacable notar que únicamente un 21% de los difuntos fallecieron en el hospital.\n"
   ]
  },
  {
   "cell_type": "code",
   "execution_count": null,
   "metadata": {
    "pycharm": {
     "name": "#%%\n"
    }
   },
   "outputs": [],
   "source": [
    "ocur = calculate_frequency(deaths, 'Ocur', use=True)\n",
    "\n",
    "fig, ax = plt.subplots(figsize=(7, 7), subplot_kw=dict(aspect=\"equal\"))\n",
    "explode = (0.01, 0.01, 0.01, 0.01, 0.01, 0.01, 0.01, 0.05, 0.05)\n",
    "wedges, texts = ax.pie(ocur['relative_frequency (%)'], wedgeprops=dict(width=0.6), startangle=-30, explode=explode)\n",
    "\n",
    "bbox_props = dict(boxstyle=\"square,pad=0.5\", fc=\"w\", ec=\"k\", lw=0.77)\n",
    "kw = dict(arrowprops=dict(arrowstyle=\"-\"),\n",
    "          bbox=bbox_props, zorder=0, va=\"center\")\n",
    "\n",
    "for i, p in enumerate(wedges):\n",
    "    ang = (p.theta2 - p.theta1)/5. + p.theta1\n",
    "    y = np.sin(np.deg2rad(ang))\n",
    "    x = np.cos(np.deg2rad(ang))\n",
    "    horizontalalignment = {-1: \"right\", 1: \"left\"}[int(np.sign(x))]\n",
    "    connectionstyle = \"angle,angleA=0,angleB={}\".format(ang)\n",
    "    kw[\"arrowprops\"].update({\"connectionstyle\": connectionstyle})\n",
    "    ax.annotate(ocur['Ocur'][i] + ' ' + str(round(ocur['relative_frequency (%)'][i], 3)) + '%', xy=(x, y), xytext=(1.5*np.sign(x), 1.5*y),\n",
    "                horizontalalignment=horizontalalignment, **kw)\n",
    "plt.title('Gráfico 6. Porcentaje de sitio de muerte para los difuntos reportados entre 2011-2020')\n",
    "plt.show()\n",
    "\n",
    "del ocur, fig, ax, explode, wedges, texts, bbox_props, kw, "
   ]
  },
  {
   "cell_type": "markdown",
   "metadata": {},
   "source": [
    "### Quién certifica"
   ]
  },
  {
   "cell_type": "code",
   "execution_count": null,
   "metadata": {},
   "outputs": [],
   "source": [
    "calculate_frequency(deaths, 'Cerdef')"
   ]
  },
  {
   "cell_type": "markdown",
   "metadata": {},
   "source": [
    "## Definiendo elementos clave\n",
    "Cruce las variables que considere que son las más importantes para hallar los elementos clave que lo pueden llevar a\n",
    "comprender lo que está causando el problema encontrado.\n",
    "\n",
    "Para hacer el cruce de las variables y comprender si existe cierta asociación entre dichas variables se utilizará Cramer´s V\n",
    "la cual es una medida de la longitud entre variables categóricas, básicamente mide la relación entre las variables. Su valor\n",
    "varía de 0 a 1, donde 0 indica que no existe ningún tipo de asociación entre las variables y 1 que sí existe asociación entre\n",
    "las mismas. Por otro lado, también se utilizarán las tablas de contingencia para hacer el \"cruce\" de las variables.\n",
    "\n",
    "Durante el análisis exploratorio de los datos y mediante las diversas preguntas que se plantearon para conocer dichos datos\n",
    "se pudo encontrar que existe una gran parte de las defunciones las cuales NO reciben asistencia médica, y esto es más notorio\n",
    "cuando se habla de asistencia médica por pueblo de pertenencia. Por lo tal, se evaluará únicamente la asociación de las variables\n",
    "con respecto al tipo de asistencia que reciben."
   ]
  },
  {
   "cell_type": "code",
   "execution_count": null,
   "metadata": {
    "pycharm": {
     "name": "#%%\n"
    }
   },
   "outputs": [],
   "source": [
    "depreg = pd.crosstab(deaths['Depreg'], deaths['Asist'])\n",
    "print(depreg)\n",
    "print('Asociación: ', contingency.association(depreg))\n",
    "\n",
    "del depreg\n"
   ]
  },
  {
   "cell_type": "code",
   "execution_count": null,
   "metadata": {
    "pycharm": {
     "name": "#%%\n"
    }
   },
   "outputs": [],
   "source": [
    "mupreg = pd.crosstab(deaths['Mupreg'], deaths['Asist'])\n",
    "print(mupreg)\n",
    "print('Asociación: ', contingency.association(mupreg))\n",
    "\n",
    "del mupreg"
   ]
  },
  {
   "cell_type": "code",
   "execution_count": null,
   "metadata": {
    "pycharm": {
     "name": "#%%\n"
    }
   },
   "outputs": [],
   "source": [
    "mesreg = pd.crosstab(deaths['Mesreg'], deaths['Asist'])\n",
    "print(mesreg)\n",
    "print('Asociación: ', contingency.association(mesreg))\n",
    "\n",
    "del mesreg"
   ]
  },
  {
   "cell_type": "code",
   "execution_count": null,
   "metadata": {
    "pycharm": {
     "name": "#%%\n"
    }
   },
   "outputs": [],
   "source": [
    "areag = pd.crosstab(deaths['Areag'], deaths['Asist'])\n",
    "print(areag)\n",
    "print('Asociación: ', contingency.association(areag))\n",
    "\n",
    "del areag\n"
   ]
  },
  {
   "cell_type": "code",
   "execution_count": null,
   "metadata": {
    "pycharm": {
     "name": "#%%\n"
    }
   },
   "outputs": [],
   "source": [
    "sexo = pd.crosstab(deaths['Sexo'], deaths['Asist'])\n",
    "print(sexo)\n",
    "print('Asociación: ', contingency.association(sexo))\n",
    "\n",
    "del sexo\n"
   ]
  },
  {
   "cell_type": "code",
   "execution_count": null,
   "metadata": {
    "pycharm": {
     "name": "#%%\n"
    }
   },
   "outputs": [],
   "source": [
    "puedif = pd.crosstab(deaths['Puedif'], deaths['Asist'])\n",
    "print(puedif)\n",
    "print('Asociación: ', contingency.association(puedif))\n",
    "\n",
    "del puedif\n"
   ]
  },
  {
   "cell_type": "code",
   "execution_count": null,
   "metadata": {
    "pycharm": {
     "name": "#%%\n"
    }
   },
   "outputs": [],
   "source": [
    "ecidif = pd.crosstab(deaths['Ecidif'], deaths['Asist'])\n",
    "print(ecidif)\n",
    "print('Asociación: ', contingency.association(ecidif))\n",
    "\n",
    "del ecidif\n"
   ]
  },
  {
   "cell_type": "code",
   "execution_count": null,
   "metadata": {
    "pycharm": {
     "name": "#%%\n"
    }
   },
   "outputs": [],
   "source": [
    "escodif = pd.crosstab(deaths['Escodif'], deaths['Asist'])\n",
    "print(escodif)\n",
    "print('Asociación: ', contingency.association(escodif))\n",
    "\n",
    "del escodif\n"
   ]
  },
  {
   "cell_type": "code",
   "execution_count": null,
   "metadata": {
    "pycharm": {
     "name": "#%%\n"
    }
   },
   "outputs": [],
   "source": [
    "ciuodif = pd.crosstab(deaths['Ciuodif'], deaths['Asist'])\n",
    "print(ciuodif)\n",
    "print('Asociación: ', contingency.association(ciuodif))\n",
    "\n",
    "del ciuodif\n"
   ]
  },
  {
   "cell_type": "code",
   "execution_count": null,
   "metadata": {
    "pycharm": {
     "name": "#%%\n"
    }
   },
   "outputs": [],
   "source": [
    "nacdif = pd.crosstab(deaths['Nacdif'], deaths['Asist'])\n",
    "print(nacdif)\n",
    "print('Asociación: ', contingency.association(nacdif))\n",
    "\n",
    "del nacdif\n"
   ]
  },
  {
   "cell_type": "code",
   "execution_count": null,
   "metadata": {
    "pycharm": {
     "name": "#%%\n"
    }
   },
   "outputs": [],
   "source": [
    "caudef = pd.crosstab(deaths['Caudef'], deaths['Asist'])\n",
    "print(caudef)\n",
    "print('Asociación: ', contingency.association(caudef))\n",
    "\n",
    "del caudef\n"
   ]
  },
  {
   "cell_type": "code",
   "execution_count": null,
   "metadata": {
    "pycharm": {
     "name": "#%%\n"
    }
   },
   "outputs": [],
   "source": [
    "ocur = pd.crosstab(deaths['Ocur'], deaths['Asist'])\n",
    "print(ocur)\n",
    "print('Asociación: ', contingency.association(ocur))\n",
    "\n",
    "del ocur\n"
   ]
  },
  {
   "cell_type": "code",
   "execution_count": null,
   "metadata": {
    "pycharm": {
     "name": "#%%\n"
    }
   },
   "outputs": [],
   "source": [
    "cerdef = pd.crosstab(deaths['Cerdef'], deaths['Asist'])\n",
    "print(cerdef)\n",
    "print('Asociación: ', contingency.association(cerdef))\n",
    "\n",
    "del cerdef"
   ]
  },
  {
   "cell_type": "markdown",
   "metadata": {
    "pycharm": {
     "name": "#%% md\n"
    }
   },
   "source": [
    "Con base en la problemática actualmente planteada y la asociación entre las variables encontrada anteriormente se decide\n",
    "que para el análisis de clustering se utilizaran las siguientes variables:\n",
    "- Asistencia\n",
    "- Departamento de registro\n",
    "- Municipio de registro\n",
    "- Población de pertenencia\n",
    "- Área geográfica\n",
    "- Causa de defunción\n",
    "- Sitio de Ocurrencia\n",
    "- Quien certifica"
   ]
  },
  {
   "cell_type": "markdown",
   "metadata": {},
   "source": [
    "## Estado de los datos\n",
    "Haga gráficos exploratorios que le dé ideas del estado de los datos."
   ]
  },
  {
   "cell_type": "markdown",
   "metadata": {},
   "source": [
    "#### ¿Cuál es la relación entre el género y la edad en cuanto a las defunciones en Guatemala? ¿Las mujeres tienden a morir más jóvenes que los hombres?\n",
    "\n",
    "En el gráfico 4, con relación al género y edad, se puede observar que hasta los 80 años, se han reportado más muertes masculinas que femeninas en cada uno de los rangos de edad.\n",
    "Sin embargo, luego de los 80 años la relación cambia, y en este caso, se reportaron más muertes de mujeres que de hombres. Por lo tal, no se puede inferir que las mujeres tienden\n",
    "a morir más jóvenes que los hombres ya que por lo contrario, se han reportado más muertes de hombres jóvenes que de mujeres."
   ]
  },
  {
   "cell_type": "code",
   "execution_count": null,
   "metadata": {
    "pycharm": {
     "name": "#%%\n"
    }
   },
   "outputs": [],
   "source": [
    "# Debido a que es una diversa cantidad de edades, se decide hacer grupos\n",
    "new_deaths = deaths.copy()\n",
    "\n",
    "for x in range(11):\n",
    "    if x < 10:\n",
    "        new_deaths.loc[(new_deaths.Edadif >= x * 10) & (new_deaths.Edadif < (x+1) * 10), 'Edadif'] = x\n",
    "    else:\n",
    "       new_deaths.loc[(new_deaths.Edadif >= 100), 'Edadif'] = 10\n",
    "\n",
    "age_gender = new_deaths.groupby(by=['Sexo', 'Edadif']).count()\n",
    "age_gender.reset_index(level=[1], inplace=True)\n",
    "\n",
    "ax = sns.barplot(x=\"Edadif\", y=\"Depreg\", hue=age_gender.index, data=age_gender)\n",
    "ax.set(title='Gráfico 7. Relación de edad-género para defunciones reportadas entre 2011-2020',\n",
    "       xlabel= 'Rango de edad',\n",
    "       ylabel='Frecuencia')\n",
    "plt.xticks(rotation=90)\n",
    "plt.show()\n",
    "\n",
    "del new_deaths, age_gender, ax"
   ]
  },
  {
   "cell_type": "markdown",
   "metadata": {},
   "source": [
    "#### ¿Cuál es el porcentaje de población indígena que recibe asistencia hospitalaria?\n",
    "\n",
    "Como se muestra en el **gráfico 5** solamente un 24% de las defunciones reportadas del pueblo indígena han recibido asistencia médica\n",
    "a diferencia de un 70% de los cuales no ha recibido ningún tipo de asistencia."
   ]
  },
  {
   "cell_type": "code",
   "execution_count": null,
   "metadata": {
    "pycharm": {
     "name": "#%%\n"
    }
   },
   "outputs": [],
   "source": [
    "etnic_asist = deaths.groupby(by=['Puedif', 'Asist']).count()\n",
    "etnic_asist.reset_index(level=[1], inplace=True)\n",
    "etnic_asist = etnic_asist.loc[ :, ['Asist', 'Depreg']]\n",
    "etnic_asist['frequency (%)'] = (etnic_asist['Depreg'] / etnic_asist['Depreg'].sum()) * 100\n",
    "\n",
    "etnic_asist_ind = etnic_asist.loc[etnic_asist.index == 'Indigena']\n",
    "plt.pie(etnic_asist_ind.Depreg, labels = etnic_asist_ind.Asist, autopct='%.0f%%')\n",
    "plt.title('Gráfico 8. Asistencia recibida por población indígena en las defunciones de 2011-2020')\n",
    "plt.show()\n",
    "\n",
    "etnic_asist_noind = etnic_asist.loc[etnic_asist.index == 'No indigena']\n",
    "plt.pie(etnic_asist_noind.Depreg, labels = etnic_asist_noind.Asist, autopct='%.0f%%')\n",
    "plt.title('Gráfico 9. Asistencia recibida por población no indígena en las defunciones de 2011-2020')\n",
    "plt.show()\n",
    "\n",
    "del etnic_asist, etnic_asist_noind, etnic_asist_ind"
   ]
  },
  {
   "cell_type": "markdown",
   "metadata": {},
   "source": [
    "#### ¿Cómo es la distribución de las muertes de los jóvenes entre 18-30 que tienen una escolaridad por encima de diversificado?\n",
    "\n",
    "De forma sencilla de interpretar el gráfico 6 representa la distribución de las muertes de personas entre 18-30 años agrupados por escolaridad. Como se puede notar,\n",
    "con personas con grado académico igual y por encima de diversificado, la mayor cantidad de muertes se da justamente con grado académico de diversificado. Este resultado\n",
    "es bastante interesante ya que si bien esto no presenta una relación entre nivel académico y muertes sino más bien, representa la desigualdad en acceso a educación que se vive\n",
    "dentro del país, ya que como se puede notar, la cantidad de jóvenes, que fallecen y son universitarios es muy poca en comparación con aquellos que mueren y están estudiando o tienen\n",
    "grado académico de primaria."
   ]
  },
  {
   "cell_type": "code",
   "execution_count": null,
   "metadata": {
    "pycharm": {
     "name": "#%%\n"
    }
   },
   "outputs": [],
   "source": [
    "young = deaths.loc[(deaths['Edadif'] >= 18) & (deaths['Edadif'] <= 30), ]\n",
    "young = young.groupby(by=['Escodif']).count()\n",
    "\n",
    "ax = sns.barplot(x=young.index, y=\"Depreg\", data=young)\n",
    "ax.set(title='Gráfico 10. Escolaridad de las muertes jóvenes (18-30años) reportadas entre 2011-2020',\n",
    "       xlabel= 'Escolaridad',\n",
    "       ylabel='Frecuencia')\n",
    "plt.xticks(rotation=90)\n",
    "plt.show()\n",
    "\n",
    "del young, ax"
   ]
  },
  {
   "cell_type": "markdown",
   "metadata": {},
   "source": [
    "### ¿En qué meses se dieron la mayor cantidad de defunciones?\n",
    "\n",
    "Como se puede observar en la **gráfica 7**, los meses 3 con mayores defunciones son:\n",
    "- Julio con 73553 muertes reportas,\n",
    "- Agosto con 69865\n",
    "- Diciembre con 69332"
   ]
  },
  {
   "cell_type": "code",
   "execution_count": null,
   "metadata": {},
   "outputs": [],
   "source": [
    "month = deaths.groupby([\"Mesocu\"])[\"Mesocu\"].count().sort_values(ascending=False)\n",
    "display(month)\n",
    "\n",
    "month.plot.bar()\n",
    "plt.title('Gráfico 11. Defunciones reportadas entre 2011-2020 separadas por mes')\n",
    "plt.xlabel('Mes')\n",
    "plt.ylabel('Frecuencia')\n",
    "\n",
    "del month"
   ]
  },
  {
   "cell_type": "markdown",
   "metadata": {},
   "source": [
    "### ¿En qué países ocurrieron la mayor cantidad de defunciones en los años 2019 y 2020 (pandemia)?\n",
    "El país con mayor defunciones es Guatemala. Cabe mencionar que este resultado se debe, principalmente, a que la mayoría\n",
    "de datos que se recolectaron fueron dentro del país, obviando así muchos casos de defunciones de guatemaltecos que residen\n",
    "en el extranjero."
   ]
  },
  {
   "cell_type": "code",
   "execution_count": null,
   "metadata": {},
   "outputs": [],
   "source": [
    "pandemia = pd.DataFrame(deaths.query(\"Añoreg>=2019\"))\n",
    "pandemia['Edadif'] = [-1 if year == \"Ignorado\" else year for year in pandemia[\"Edadif\"]]\n",
    "pais = pandemia.groupby([\"Predif\"])[\"Predif\"].count().sort_values(ascending=False).head()\n",
    "display(pais)\n",
    "\n",
    "pais.plot.bar()\n",
    "plt.title('Gráfico 12. Residencia del país del difunto de las muertes reportadas entre 2011-2020')\n",
    "\n",
    "del pais"
   ]
  },
  {
   "cell_type": "markdown",
   "metadata": {},
   "source": [
    "### Durante estos años, las personas que fallecieron tuvieron tratamiento médico? \n",
    "\n",
    "Como se puede observar, la cantidad de defunciones que hubieron en estos años de pandemia y que recibieron asistencia médica\n",
    "fueron de 93212 muertes, luego siguen las personas que no recibieron ningún tipo de asistencia médica. Esto se puede deber\n",
    "a que en esos tiempo, muchas personas se enfermaban y cuando necesitaban ir a un hospital, estos se encontraban llenos y\n",
    "no lograban encontrar cupo."
   ]
  },
  {
   "cell_type": "code",
   "execution_count": null,
   "metadata": {},
   "outputs": [],
   "source": [
    "display(pandemia.groupby(\"Asist\")[\"Asist\"].count().sort_values(ascending=False))\n",
    "\n",
    "del pandemia"
   ]
  },
  {
   "cell_type": "markdown",
   "metadata": {},
   "source": [
    "### ¿Existe alguna relación entre el sexo y la atención recibida que tuvieron los fallecidos en los años 2011 a 2020?"
   ]
  },
  {
   "cell_type": "code",
   "execution_count": null,
   "metadata": {},
   "outputs": [],
   "source": [
    "atencionGenero = deaths.groupby([\"Asist\",\"Sexo\"])[\"Asist\"].count().sort_values(ascending=False)\n",
    "display(atencionGenero)\n",
    "\n",
    "atencionGenero.plot.bar()\n",
    "plt.title('Gráfico 13. Atención recibida por sexo en las defunciones reportadas de 2011-2020')\n",
    "plt.xlabel('Asistencia, Sexo')\n",
    "plt.ylabel('Frecuencia')\n",
    "\n",
    "del atencionGenero"
   ]
  },
  {
   "cell_type": "markdown",
   "metadata": {},
   "source": [
    "Como se puede observar en la **gráfica 9**, no hay alguna relación entre el género y la atención recibida, por lo que no\n",
    "se puede concluir que el género afecte en algo hacia la atención médica que se puede recibir. Sin embargo, se puede notar\n",
    "que sin importar el género, existe una gran cantidad de personas que no recibe atención médica antes de morir."
   ]
  },
  {
   "cell_type": "markdown",
   "metadata": {},
   "source": [
    "### ¿En Guatemala, en qué lugares predominan las defunciones? ¿El servicio que ofrecen los hospitales privados es mejor que el de los hospitales públicos? "
   ]
  },
  {
   "cell_type": "code",
   "execution_count": null,
   "metadata": {},
   "outputs": [],
   "source": [
    "guatemala = pd.DataFrame(deaths.query(\"Predif=='Guatemala'\"))\n",
    "municipios = guatemala.groupby(\"Mredif\")[\"Mredif\"].count().sort_values(ascending=False).head(10)\n",
    "display(municipios)\n",
    "\n",
    "municipios.plot.pie(autopct='%.0f%%')\n",
    "plt.title('Gráfica 14. Predominancia de las defunciones reportadas para 2011-2020 por municipio de residencia')\n",
    "plt.ylabel('')\n",
    "plt.xlabel('')"
   ]
  },
  {
   "cell_type": "code",
   "execution_count": null,
   "metadata": {},
   "outputs": [],
   "source": [
    "lugar = guatemala.groupby(\"Ocur\")[\"Ocur\"].count().sort_values(ascending=False).head(10)\n",
    "display(lugar)\n",
    "\n",
    "lugar.plot.pie()\n",
    "plt.title('Gráfico 11. Lugar de ocurrencia reportado para las defunciones entre 2011-2020')\n",
    "plt.ylabel('')\n",
    "plt.xlabel('')\n",
    "\n",
    "del guatemala, lugar, municipios"
   ]
  },
  {
   "cell_type": "markdown",
   "metadata": {},
   "source": [
    "Cómo se puede observar en las dos gráficas de pie, el municipio con mayor cantidad de defunciones es Guatemala, luego le\n",
    "sigue Mixco, Villa Nueva y Quetzaltenango. Por otro lado, se puede ver en el **gráfico 11** en los hospitales públicos\n",
    "existió una mayor cantidad de defunciones que en hospitales privados, lo que podría indicar que el servicio de los\n",
    "hospitales privados es mejor, sin embargo, como se vio en la pregunta anterior y en la siguiente pregunta,\n",
    "el número de personas que tiene acceso a tratamientos médicos privados es muy baja,\n",
    "por lo tal no es posible concluir que los hospitales privados son mejores que los públicos debido a que la cantidad\n",
    "de personas que cuentan con los recursos económicos para asistir a un hospital privado es menos de la mitad de la población\n",
    "guatemalteca."
   ]
  },
  {
   "cell_type": "markdown",
   "metadata": {},
   "source": [
    "### ¿Las personas fallecidas de 50 años o más recibieron buen tratamiento médico? "
   ]
  },
  {
   "cell_type": "code",
   "execution_count": null,
   "metadata": {},
   "outputs": [],
   "source": [
    "datos2 = deaths.copy()\n",
    "datos2['Edadif'] = [-1 if year == \"Ignorado\" else int (year) for year in datos2[\"Edadif\"]]\n",
    "mayores = pd.DataFrame(datos2.query(\"Edadif>49\"))\n",
    "\n",
    "display(mayores.groupby(\"Asist\")[\"Asist\"].count().sort_values(ascending=False))\n",
    "\n",
    "del mayores, datos2"
   ]
  },
  {
   "cell_type": "markdown",
   "metadata": {
    "pycharm": {
     "name": "#%% md\n"
    }
   },
   "source": [
    "Cómo se mencionó anteriormente, aquí se puede observar que las personas mayores a los 50 años no recibieron asistencia\n",
    "médica a la hora de su muerte, con una cantidad de 200701 defunciones registradas para ese caso. Luego siguen las\n",
    "defunciones que sí recibieron asistencia médica, con un valor de 196730."
   ]
  },
  {
   "cell_type": "markdown",
   "metadata": {},
   "source": [
    "### ¿Quienes fueron las personas que más certificaron durante los años 2015 a 2020?"
   ]
  },
  {
   "cell_type": "code",
   "execution_count": null,
   "metadata": {},
   "outputs": [],
   "source": [
    "datos2 = pd.DataFrame(deaths.query(\"Añoreg>2014\"))\n",
    "\n",
    "cert = datos2.groupby(\"Cerdef\")[\"Cerdef\"].count().sort_values(ascending=False)\n",
    "display(cert)\n",
    "\n",
    "cert.plot.bar()\n",
    "plt.title('Gráfico 15. Certificadores reportados para las defunciones entre 2015 a 2020')\n",
    "plt.xlabel('Certificador')\n",
    "\n",
    "del datos2"
   ]
  },
  {
   "cell_type": "markdown",
   "metadata": {},
   "source": [
    "Como se puede observar en la gráfica de arriba, las personas que mayor certificaron son los médicos, seguidos por los\n",
    "que se registraron como \"ignorados\"."
   ]
  },
  {
   "cell_type": "markdown",
   "metadata": {},
   "source": [
    "### ¿Cuál es el porcentaje de las muertes por enfermedad que NO recibieron asistencia médica?\n",
    "En el **gráfico 16** se puede observar que aproximadamente un 46% de las muertes a causa natural reportadas durante los años\n",
    "2011 a 2020 no recibieron asistencia médica."
   ]
  },
  {
   "cell_type": "code",
   "execution_count": null,
   "metadata": {
    "pycharm": {
     "name": "#%%\n"
    }
   },
   "outputs": [],
   "source": [
    "illness = pd.DataFrame({\n",
    "    'Asist': deaths['Asist'],\n",
    "    'cause' : deaths['cause'].replace(r'([A-R])([A-R])', r'NC', regex=True),\n",
    "    'count': 1\n",
    "}).groupby(['cause', 'Asist']).count()\n",
    "illness.reset_index(level=[1], inplace=True)\n",
    "illness = illness.loc[illness.index == 'NC']\n",
    "illness['frequency (%)'] = (illness['count'] / illness['count'].sum()) * 100\n",
    "display(illness)\n",
    "\n",
    "plt.pie(illness['frequency (%)'], labels = illness.Asist, autopct='%.0f%%')\n",
    "plt.title('Gráfico 16. Asistencia recibida por muertes naturales de los difuntos ')\n",
    "plt.show()\n",
    "\n",
    "del illness"
   ]
  },
  {
   "cell_type": "markdown",
   "metadata": {
    "pycharm": {
     "name": "#%% md\n"
    }
   },
   "source": [
    "### ¿Cuál es el porcentaje de las muertes por causa externa (i.e. no causa natural) que recibieron asistencia médica?\n",
    "Como se puede notar en el **gráfico 17** únicamente un 40% de las muertes reportadas por causas externas recibieron asistencia\n",
    "médica, dejando así, un 55% de difuntos sin asistencia médica."
   ]
  },
  {
   "cell_type": "code",
   "execution_count": null,
   "metadata": {
    "pycharm": {
     "name": "#%%\n"
    }
   },
   "outputs": [],
   "source": [
    "illness = pd.DataFrame({\n",
    "    'Asist': deaths['Asist'],\n",
    "    'cause' : deaths['cause'].replace(r'([S-Y])([S-Y])', r'EC', regex=True),\n",
    "    'count': 1\n",
    "}).groupby(['cause', 'Asist']).count()\n",
    "illness.reset_index(level=[1], inplace=True)\n",
    "illness = illness.loc[illness.index == 'EC']\n",
    "illness['frequency (%)'] = (illness['count'] / illness['count'].sum()) * 100\n",
    "display(illness)\n",
    "\n",
    "plt.pie(illness['frequency (%)'], labels = illness.Asist, autopct='%.0f%%')\n",
    "plt.title('Gráfico 17. Asistencia recibida por muertes naturales de los difuntos ')\n",
    "plt.show()\n",
    "\n",
    "del illness\n"
   ]
  },
  {
   "cell_type": "markdown",
   "metadata": {
    "pycharm": {
     "name": "#%% md\n"
    }
   },
   "source": [
    "## Agrupamiento\n",
    "Haga un agrupamiento (clustering) e interprete los resultados.\n",
    "Para la elaboración del agrupamiento, debido a que se cuenta con una gran cantidad de datos, sin embargo no se tiene a\n",
    "disposición un ordenador capaz de procesar dicha cantidad de datos, entonces se decidió utilizar una muestra de la población.\n",
    "\n",
    "Debido a que se busca que la muestra sea lo más significativa posible, se decidió tomar aproximadamente un 15% de los datos\n",
    "de cada año y así garantizar que en la muestra existirá una proporción de defunciones de todos los años descritos en la población\n",
    "original.\n",
    "\n",
    "Al ser únicamente variables categóricas se utilizará como algoritmo de agrupamiento k-modes. El cual es una variante de k-means\n",
    "pero en lugar de tomar la distancia entre los datos, este se basa en la moda de los mismos."
   ]
  },
  {
   "cell_type": "code",
   "execution_count": null,
   "metadata": {
    "pycharm": {
     "name": "#%%\n"
    }
   },
   "outputs": [],
   "source": [
    "# Obtención de la muestra\n",
    "deaths_sample = deaths.groupby('Añoocu', group_keys=False).apply(lambda x: x.sample(frac=0.15, random_state=191943))\n",
    "\n",
    "usable = ['Asist', 'Depreg', 'Mupreg', 'Añoreg', 'Puedif', 'cause', 'Ocur', 'Cerdef']\n",
    "deaths_sample = deaths_sample[usable]"
   ]
  },
  {
   "cell_type": "markdown",
   "metadata": {
    "pycharm": {
     "name": "#%% md\n"
    }
   },
   "source": [
    "### Número óptimo de clusters."
   ]
  },
  {
   "cell_type": "code",
   "execution_count": null,
   "metadata": {},
   "outputs": [],
   "source": [
    "# Elbow curve to find optimal K\n",
    "cost = []\n",
    "K = range(1,8)\n",
    "for num_clusters in list(K):\n",
    "    kmode = KModes(n_clusters=num_clusters, init=\"random\", n_init = 5, verbose=1)\n",
    "    kmode.fit_predict(deaths_sample)\n",
    "    cost.append(kmode.cost_)\n",
    "    \n",
    "plt.plot(K, cost, 'bx-')\n",
    "plt.xlabel('Número de Clusters')\n",
    "plt.ylabel('Valor')\n",
    "plt.title('Método de Codo para el Número óptimo de Clusters K-Modes')"
   ]
  },
  {
   "cell_type": "markdown",
   "metadata": {},
   "source": [
    "Mediante el gráfico del codo se puede observar que para el conjunto de datos a agrupar el número óptimo de clusters\n",
    "es 3, ya que es en este punto que al aumentar la cantidad de clusters el valor no cambia significativamente."
   ]
  },
  {
   "cell_type": "markdown",
   "metadata": {
    "pycharm": {
     "name": "#%% md\n"
    }
   },
   "source": [
    "### Uso de algoritmo de agrupamiento."
   ]
  },
  {
   "cell_type": "code",
   "execution_count": null,
   "metadata": {},
   "outputs": [],
   "source": [
    "kmode = KModes(n_clusters=3, init=\"random\", n_init = 5, verbose=1, random_state=42)\n",
    "clusters = kmode.fit_predict(deaths_sample)"
   ]
  },
  {
   "cell_type": "code",
   "execution_count": null,
   "metadata": {
    "pycharm": {
     "name": "#%%\n"
    }
   },
   "outputs": [],
   "source": [
    "binary_sample = pd.get_dummies(deaths_sample)"
   ]
  },
  {
   "cell_type": "markdown",
   "metadata": {
    "pycharm": {
     "name": "#%% md\n"
    }
   },
   "source": [
    "### Calidad del agrupamiento usando el método de la silueta."
   ]
  },
  {
   "cell_type": "code",
   "execution_count": null,
   "metadata": {},
   "outputs": [],
   "source": [
    "# plt.figure.size_inches(18, 7)\n",
    "plt.xlim([-0.1, 1])\n",
    "# The (n_clusters+1)*10 is for inserting blank space between silhouette\n",
    "# plots of individual clusters, to demarcate them clearly.\n",
    "# plt.set_ylim([0, len(X) + (n_clusters + 1) * 10])\n",
    "\n",
    "silhouette_avg = silhouette_score(binary_sample, clusters)\n",
    "print(\"For n_clusters = 3 The average silhouette_score is :\", silhouette_avg)\n",
    "\n",
    "# Compute the silhouette scores for each sample\n",
    "sample_silhouette_values = silhouette_samples(binary_sample, clusters)\n",
    "\n",
    "y_lower = 10\n",
    "for i in range(3):\n",
    "    ith_cluster_silhouette_values = sample_silhouette_values[clusters == i]\n",
    "    ith_cluster_silhouette_values.sort()\n",
    "    size_cluster_i = ith_cluster_silhouette_values.shape[0]\n",
    "    y_upper = y_lower + size_cluster_i\n",
    "\n",
    "    # color = cm.nipy_spectral(float(i) / n_clusters)\n",
    "    plt.fill_betweenx(\n",
    "        np.arange(y_lower, y_upper),\n",
    "        0,\n",
    "        ith_cluster_silhouette_values,\n",
    "        facecolor='red',\n",
    "        edgecolor='black',\n",
    "        alpha=0.7,\n",
    "    )\n",
    "\n",
    "    # Label the silhouette plots with their cluster numbers at the middle\n",
    "    plt.text(-0.05, y_lower + 0.5 * size_cluster_i, str(i))\n",
    "\n",
    "    # Compute the new y_lower for next plot\n",
    "    y_lower = y_upper + 10  # 10 for the 0 samples\n",
    "\n",
    "plt.title(\"The silhouette plot for the various clusters.\")\n",
    "plt.xlabel(\"The silhouette coefficient values\")\n",
    "plt.ylabel(\"Cluster label\")\n",
    "\n",
    "# The vertical line for average silhouette score of all the values\n",
    "plt.axvline(x=silhouette_avg, color=\"red\", linestyle=\"--\")\n",
    "\n",
    "plt.yticks([])  # Clear the yaxis labels / ticks\n",
    "plt.xticks([-0.1, 0, 0.2, 0.4, 0.6, 0.8, 1])\n",
    "\n",
    "plt.show()"
   ]
  },
  {
   "cell_type": "code",
   "execution_count": null,
   "metadata": {},
   "outputs": [],
   "source": [
    "# Agregando los resultados del cluster al dataframe\n",
    "deaths_sample['cluster'] = clusters"
   ]
  },
  {
   "cell_type": "markdown",
   "metadata": {},
   "source": [
    "### Interpretación de los grupos, usando para eso las variables numéricas y categóricas dentro de cada grupo.\n",
    "Para hacer el análisis y la interpretación de los resultados del cluster se utilizó la visualización de los mismos, es\n",
    "decir, se observó gráficamente cómo se había realizado la división en los grupos mediante gráfico de barras."
   ]
  },
  {
   "cell_type": "code",
   "execution_count": null,
   "metadata": {},
   "outputs": [],
   "source": [
    "variables = ['Asist', 'Depreg', 'Añoreg', 'Puedif', 'cause', 'Ocur', 'Cerdef']\n",
    "\n",
    "for variable in variables:\n",
    "    plt.figure(figsize=(12,6))\n",
    "    ax = sns.countplot(x=\"cluster\", hue=variable, data=deaths_sample)\n",
    "    plt.legend(bbox_to_anchor=(1.05, 1),\n",
    "               loc='upper left',\n",
    "               borderaxespad=0,\n",
    "               title=variable,\n",
    "               fontsize='medium',\n",
    "               title_fontsize='large')\n",
    "    plt.show(ax)"
   ]
  },
  {
   "cell_type": "markdown",
   "metadata": {},
   "source": [
    "En las gráficas anteriores se puede notar que si bien en cada grupo no se encuentra una sola categoría de cada variable\n",
    "sin embargo, si es fácil de observar que existe una categoría que predomina.\n",
    "\n",
    "En el caso del grupo 1, predominan las personas que no recibieron ningún tipo de asistencia a la hora de morir, especialmente en los\n",
    "departamentos de Huehuetenango, San Marcos y Alta Verapaz, siendo su principal población perteneciente al pueblo indígena.\n",
    "Como principales causas de muerte las enfermedades del aparato circulatorio y enfermedades del aparato respiratorio. Estas muertes\n",
    "en mayoría ocurrieron en los domiciolios de los difuntos. Y debido a esto, se desconoce quién hizo la certificación de muerte.\n",
    "\n",
    "Por otro lado se tiene al grupo 2, en el cual se encuentran los difuntos que recibieron asistencia médica, principalmente\n",
    "en el departamento de Guatemala alrededor del año 2019 - 2020 siendo en su mayoría personas no indígenas con causa principal\n",
    "de muerte por enfermedades del aparato circulatorio seguido por enfermedades metabólicas, endocrinas y nutricionales.\n",
    "Estas muertes principalmente han ocurrido en hospitales públicos y domicilios y por lo tal, han sido en su mayoría, certificadas por un\n",
    "médico.\n",
    "\n",
    "Finalmente se tiene al grupo 3, este cuenta con observaciones que en su mayoría  no recibieron asistencia médica, siendo estos principalmetne\n",
    "residentes del departamento de Guatemala alrededor del año 2015, en su mayoría es población no indígena cuya muerte ha ocurrido principalmente a causa\n",
    "de situaciones externas tales como accidentes automovilísticos, lesiones autoinflingidas o lesiones a causua de accidentes.\n",
    "En este grupo predominan los fallecimientos en los domicilios y la certificación ha sido dada, en su mayoría, por un médico."
   ]
  },
  {
   "cell_type": "markdown",
   "metadata": {
    "pycharm": {
     "name": "#%% md\n"
    }
   },
   "source": [
    "# Análisis de resultados\n",
    "\n",
    "## Situación problemática\n",
    "Describa la situación problemática que lo lleva a acotar un problema a resolver.\n",
    "\n",
    "Durante el análisis exploratorio realizado en el apartado anterior se pudo encontrar que aproximadamente el 50% de los datos\n",
    "reportados para las defunciones de los años de 2011 a 2020 no recibe ningún tipo de asistencia al morir. De igual forma se buscó\n",
    "analizar si existía algún tipo de sesgo en cuanto a la asistencia dependiendo del pueblo de pertenencia del difunto, y como se\n",
    "puede observar en el **gráfico 5.1** y **gráfico 5.2** en el caso de la población indígena, solamente un 24% de la población\n",
    "recibe asistencia médica, a diferencia de la población no indígena, de la cual aproximadamente un 57% recibe asistencia médica.\n",
    "Por otro lado, algo interesante a notar es que el sexo no establece un marco de sesgo para la atención esto es significativo\n",
    "debido al nivel de desiugaldad de género que se vive en el país."
   ]
  },
  {
   "cell_type": "markdown",
   "metadata": {},
   "source": [
    "## Problema científico\n",
    "Enuncie un problema científico y unos objetivos preliminares\n",
    "\n",
    "El acceso a salud de calidad se encuentra estipulado dentro de la Constitución de Guatemala en el cual se asegura\n",
    "que todos los seres humanos desde el momento de nacer tienen el derecho de recibir asistencia médica de manera gratuita,\n",
    "En el boletín No.19 proporcionado por las naciones unidas indican que el derecho a la salud conlleva\n",
    "a que todas las personas tengan acceso a la salud en el momento que lo necesiten y que además esta sea de calidad.\n",
    "Sin embargo, en el resumen de *Estrategia de Cooperación* se comenta que Guatemala aún experimenta una crisis institucional\n",
    "para garantizar el acceso y la cobertura de servicios de salud básicos. Como se mencionó al describir la situación problemática\n",
    "aproximadamente el 50% de las personas que fallecen no reciben ningún tipo de asistencia médica antes de su muerte, sin embargo,\n",
    "la problemática radica en conocer si exis\n",
    "\n",
    "**Objetivos**\n",
    "- Conocer la diferencia en la asistencia médica recibida por los difuntos dependiendo el departamento de residencia del fallecido\n",
    "- Descubrir si a causa de la pandemia existieron cambios en la asistencia médica recibida por los guatemaltecos\n",
    "- Determinar si la causa de fallecimiento contribuye al recibimiento de asistencia médica (i.e. muerte a causa natural vs suicidio)"
   ]
  },
  {
   "cell_type": "markdown",
   "metadata": {},
   "source": [
    "## ¿Qué se tiene para responder el problema?\n",
    "Describa los datos que tiene para responder el problema planteado. Esto incluye el estado en que encontró el o los conjuntos\n",
    "de datos y las operaciones de limpieza que le realizó, en caso de que hayan sido necesarias.\n",
    "\n",
    "Para resolver el problema se cuenta con la base de datos pública de defunciones del Instituto Nacional de Estadística de Guatemala (INE).\n",
    "Dicha base de datos nos permite detectar la nacionalidad del difunto, su edad, ocupación, causa de defunción, grupo étnico, entre otros.\n",
    "Específicamente, se utilizaron los reportes de defunción de los años 2011 a 2020.\n",
    "\n",
    "Cabe destacar que la base de datos necesitaba de limpieza. Con la limpieza se trabajó con 3 problemas principales:\n",
    "Diferencias en Clasificación: Como el grupo étnico y la ocupación del difunto.\n",
    "Nombres de Departamentos: Por ejemplo, Quiché y Quiche\n",
    "Variables que no están en todos los años: Como el área geográfica y nacionalidad del difunto.\n",
    "Un ejemplo perfecto de las diferencias entre las clasificaciones es el grupo étnico. Durante los años 2011-2013 se\n",
    "trabajó con: Indígena y no Indígena, mientras que a partir del año 2014 se utilizó Ladino / Mestizo, Xinca, Garífuna y Maya.\n",
    "En este caso, simplemente se adaptó todo al esquema antiguo, donde la etnia Maya fue reclasificada a Indígena y todas las demás a No Indígena.\n",
    "También ocurrió algo similar con las clasificaciones de la ocupación del difunto.\n",
    "\n",
    "Además, en caso de que no todas las variables estuvieran en todos los años, los valores faltantes fueron rellenados con “nan” o con “Ignorado”.\n",
    "Cabe destacar que no se utilizaron estas variables durante la realización del estudio, pero todavía se preprocesaron en caso de que sí fuera necesario usarlas.\n"
   ]
  },
  {
   "cell_type": "markdown",
   "metadata": {
    "pycharm": {
     "name": "#%% md\n"
    }
   },
   "source": [
    "## Conclusiones\n",
    "Escriba unas conclusiones con los hallazgos encontrados durante el análisis exploratorio\n",
    "\n",
    "Una de las cosas más interesantes al analizar los datos, tanto mediante el análisis exploratorio como mediante el agrupamiento\n",
    "fue el encontrar el \"sesgo\" o preferencia que existe al proporcionar asistencia médica, ya que esta principalmente se provee a\n",
    "personas que no pertenecen al pueblo indígena y que residen en el departamento de Guatemala.\n",
    "\n",
    "Entre los años 2019-2020, la causa de muerte que predominó en el departamento de Guatemala fueron causadas por problemas en el\n",
    "aparato circulatorio, enfermedades metabólicas, endocrinas y nutricionales. Valdría la pena tomar en cuenta esto para futuras\n",
    "investigaciones y encontrar cuál es la correlación que existe entre estas causas de muertes y el COVID-19. Ya que como se puede\n",
    "notar en la agrupación realizada, especialmente el grupo 1, este representa principalmente muertes en el 2019-2020\n",
    "cuya causa fueron entre otros problemas respiratorios y circulatorios, esto es interesante que durante esos años inició y fue\n",
    "el auge de la pandemia en Guatemala, y evidentemente aunque existían hospitales especializados para atender las personas contagiadas\n",
    "en su mayoría no se daban abasto.\n",
    "\n",
    "Por otro lado, otro aspecto interesante encontrado en la agrupación y en el análisis es que en los últimos años (2019 en adelante)\n",
    "disminuyó considerablemente las muertes registradas por accidentes o autolesiones, en comparación con años anteriores, y\n",
    "por el contrario se vio un incremento en las muertes por enfermedades del aparato circulatorio seguido por enfermedades metabólicas, endocrinas y nutricionales"
   ]
  }
 ],
 "metadata": {
  "kernelspec": {
   "display_name": "Python 3 (ipykernel)",
   "language": "python",
   "name": "python3"
  },
  "language_info": {
   "codemirror_mode": {
    "name": "ipython",
    "version": 3
   },
   "file_extension": ".py",
   "mimetype": "text/x-python",
   "name": "python",
   "nbconvert_exporter": "python",
   "pygments_lexer": "ipython3",
   "version": "3.9.6"
  }
 },
 "nbformat": 4,
 "nbformat_minor": 1
}
