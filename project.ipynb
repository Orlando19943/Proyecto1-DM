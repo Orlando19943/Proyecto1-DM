{
 "cells": [
  {
   "cell_type": "markdown",
   "metadata": {
    "collapsed": false
   },
   "source": [
    "- Diana Zaray Corado #191025\n",
    "- Pablo Alejandro Méndez #19195\n",
    "- Orlando Osberto Cabrera #19943\n",
    "- Javier Alejandro Mejía Alecio #20304\n",
    "- Erick Raúl Alvarez Melgar #20900\n",
    "# Proyecto - Análisis Exploratorio\n",
    "\n",
    "Guatemala es conocido como el país de la eterna primavera, debido a su diversidad de flora y fauna, además de contar\n",
    "con un clima conocido como templado, es decir no existen climas extremos a lo largo del año. Sin embargo, así como\n",
    "es conocido por su belleza natural, también es fuertemente reconocible por la corrupción y los bajos índices de calidad\n",
    "de vida, y uno de ellos es el de mortalidad, la cual expresa la frecuencia con la cual ocurren las defunciones en una\n",
    "población dada, en el caso de Guatemala, para el año 2019 fue de 4.72% (Datosmacro, 2021), es decir en promedio 5 muertes por cada 1000 habitantes.\n",
    "A continuación se realizará un análisis exploratorio, sobre los datos de defunciones reportados por el Instituto Nacional de\n",
    "Estadística de Guatemala -INE- de los años 2011 a 2020, y dentro de los cuales se pretende encontrar una situación problemática\n",
    "la cual a su vez pueda ser resuelta con los datos analizados."
   ]
  },
  {
   "cell_type": "code",
   "execution_count": 1,
   "metadata": {
    "collapsed": false,
    "pycharm": {
     "name": "#%%\n"
    }
   },
   "outputs": [],
   "source": [
    "import pandas as pd\n",
    "import numpy as np\n",
    "import scipy.stats as sp\n",
    "import seaborn as sns\n",
    "import matplotlib.pyplot as plt"
   ]
  },
  {
   "cell_type": "code",
   "execution_count": 2,
   "metadata": {
    "collapsed": false,
    "pycharm": {
     "name": "#%%\n"
    }
   },
   "outputs": [],
   "source": [
    "# General functions\n",
    "def calculate_frequency(data, column, index='index', head = False):\n",
    "    data_f = pd.DataFrame({\n",
    "        'frequency': data[column].value_counts(),\n",
    "        'relative_frequency (%)': data[column].value_counts(normalize=True)*100,\n",
    "        'relative_acc_frequency': data[column].value_counts(normalize=True).cumsum()\n",
    "    })\n",
    "    data_f.reset_index(level=[0], inplace=True)\n",
    "    data_f.rename(columns={index:column}, inplace=True)\n",
    "    if head:\n",
    "        left_aligned_df = data_f.head(20).style.set_properties(**{'text-align': 'center'})\n",
    "    else:\n",
    "        left_aligned_df = data_f.style.set_properties(**{'text-align': 'center'})\n",
    "    display(left_aligned_df)\n",
    "    return data_f"
   ]
  },
  {
   "cell_type": "code",
   "execution_count": 3,
   "metadata": {
    "collapsed": false,
    "pycharm": {
     "name": "#%%\n"
    }
   },
   "outputs": [
    {
     "name": "stderr",
     "output_type": "stream",
     "text": [
      "C:\\Users\\Orlando\\AppData\\Local\\Temp\\ipykernel_13004\\131818023.py:2: DtypeWarning: Columns (7,12,18,22,26) have mixed types. Specify dtype option on import or set low_memory=False.\n",
      "  deaths = pd.read_csv('muertes_final.csv')\n"
     ]
    }
   ],
   "source": [
    "# Cargar los datos\n",
    "deaths = pd.read_csv('muertes_final.csv')"
   ]
  },
  {
   "cell_type": "markdown",
   "metadata": {
    "collapsed": false
   },
   "source": [
    "# Exploración de los datos\n",
    "// Rúbrica\n",
    "- Estudia las variables cuantitativas mediante técnicas de estadística descriptiva\n",
    "- Hace gráficos exploratorios como histogramas, diagramas de cajas y bigotes, gráficos de dispersión,\n",
    "que ayudan a explicar los datos.\n",
    "- Analiza las correlaciones entre las variables, trata de explicar los outliers\n",
    "(puntos atípicos) y toma decisiones acertadas ante la presencia de valores faltantes.\n",
    "- Estudia las variables categóricas.\n",
    "- Elabora gráficos de barra, tablas de frecuencia y de proporciones\n",
    "- Explica muy bien todos los procedimientos y los hallazgos que va haciendo.\n",
    "- Determina el mejor número de clusters a utilizar.\n",
    "- Hace el agrupamiento con cualquiera de los algoritmos estudiados.\n",
    "- Verifica la calidad del agrupamiento usando el método de la silueta.\n",
    "- Interpreta los grupos, usando para eso las variables numéricas y categóricas dentro de cada grupo.\n",
    "\n",
    "## ¿Cuáles son los datos?\n",
    "Comience describiendo cuantas variables y observaciones tiene disponibles, el tipo de cada una de las variables.\n",
    "\n",
    "### Clasificación de variables\n",
    "**Cuantitativas**\n",
    "No hay XD\n",
    "\n",
    "**Cualitativas Ordinal**\n",
    "- EDADIF → Edad del difunto\n",
    "- ESCODIF → Escolaridad del difunto\n",
    "\n",
    "**Cualitativa Nominal**\n",
    "- DEPREG → Departamento de registro\n",
    "- MUPREG → Municipio de registro\n",
    "- MESREG → Mes de registro\n",
    "- AÑOREG → Año de registro\n",
    "- DEPOCU → Departamento de ocurrencia\n",
    "- MUPOCU → Municipio de ocurrencia\n",
    "- AREGAG → Área geográfica de ocurrencia\n",
    "- SEXO\n",
    "- DIAOCU → Día de ocurrencia\n",
    "- MESOCU → Mes de ocurrencia\n",
    "- AÑOOCU → Año de ocurrencia\n",
    "- GETDIF → Grupo étnico del difunto\n",
    "- ECIDIF → Estado civil del difunto\n",
    "- OCUDIF → Ocupación del difunto\n",
    "- PNADIF → País de nacimiento\n",
    "- DNADIF → Departamento de nacimiento\n",
    "- MNADIF → Municipio de nacimiento\n",
    "- PREDIF → País de residencia\n",
    "- DREDIF → Departamento de residencia\n",
    "- MREDIF → Municipio de residencia\n",
    "- CAUDEF → Causa de defunción\n",
    "- ASIST → Asistencia recibida\n",
    "- OCUR → Sitio de ocurrencia\n",
    "- CERDEF → Quién certifica\n"
   ]
  },
  {
   "cell_type": "markdown",
   "metadata": {
    "collapsed": false
   },
   "source": [
    "## Preprocesamiento\n",
    "Análisis de valores atípicos y tratamientos de valores faltantes"
   ]
  },
  {
   "cell_type": "markdown",
   "metadata": {
    "collapsed": false
   },
   "source": [
    "## Variables cuantitativas y su distribución\n",
    "Haga un resumen de las variables numéricas e investigue si siguen una distribución normal.\n"
   ]
  },
  {
   "cell_type": "markdown",
   "metadata": {
    "collapsed": false
   },
   "source": [
    "## Variables cualitativas y su frecuencia\n",
    "Elabore tablas de frecuencia para las variables categóricas, escriba lo que vaya encontrando.\n",
    "// Acá también pueden ir preguntas\n"
   ]
  },
  {
   "cell_type": "markdown",
   "metadata": {
    "collapsed": false
   },
   "source": [
    "### Departamento de registro"
   ]
  },
  {
   "cell_type": "markdown",
   "metadata": {
    "collapsed": false
   },
   "source": [
    "### Municipio de registro"
   ]
  },
  {
   "cell_type": "markdown",
   "metadata": {
    "collapsed": false
   },
   "source": [
    "### Mes de registro"
   ]
  },
  {
   "cell_type": "markdown",
   "metadata": {
    "collapsed": false
   },
   "source": [
    "### Año de registro"
   ]
  },
  {
   "cell_type": "markdown",
   "metadata": {
    "collapsed": false
   },
   "source": [
    "### Departamento de ocurrencia"
   ]
  },
  {
   "cell_type": "markdown",
   "metadata": {
    "collapsed": false
   },
   "source": [
    "### Municipio de ocurrencia"
   ]
  },
  {
   "cell_type": "markdown",
   "metadata": {
    "collapsed": false
   },
   "source": [
    "### Área geográfica de ocurrencia"
   ]
  },
  {
   "cell_type": "markdown",
   "metadata": {
    "collapsed": false
   },
   "source": [
    "### SEXO"
   ]
  },
  {
   "cell_type": "markdown",
   "metadata": {
    "collapsed": false
   },
   "source": [
    "### Día de ocurrencia"
   ]
  },
  {
   "cell_type": "markdown",
   "metadata": {
    "collapsed": false
   },
   "source": [
    "### Mes de ocurrencia"
   ]
  },
  {
   "cell_type": "markdown",
   "metadata": {
    "collapsed": false
   },
   "source": [
    "### Año de ocurrencia"
   ]
  },
  {
   "cell_type": "markdown",
   "metadata": {
    "collapsed": false
   },
   "source": [
    "### Grupo étnico del difunto"
   ]
  },
  {
   "cell_type": "markdown",
   "metadata": {
    "collapsed": false
   },
   "source": [
    "### Estado civil del difunto\n",
    "¿Cuál es el estado civil predominante en las muertes?"
   ]
  },
  {
   "cell_type": "code",
   "execution_count": null,
   "metadata": {
    "collapsed": false,
    "pycharm": {
     "name": "#%%\n"
    }
   },
   "outputs": [],
   "source": []
  },
  {
   "cell_type": "markdown",
   "metadata": {
    "collapsed": false
   },
   "source": [
    "### Ocupación del difunto"
   ]
  },
  {
   "cell_type": "markdown",
   "metadata": {
    "collapsed": false
   },
   "source": [
    "### País de nacimiento"
   ]
  },
  {
   "cell_type": "markdown",
   "metadata": {
    "collapsed": false
   },
   "source": [
    "### Departamento de nacimiento"
   ]
  },
  {
   "cell_type": "markdown",
   "metadata": {
    "collapsed": false
   },
   "source": [
    "### Municipio de nacimiento"
   ]
  },
  {
   "cell_type": "markdown",
   "metadata": {
    "collapsed": false
   },
   "source": [
    "### País de residencia"
   ]
  },
  {
   "cell_type": "markdown",
   "metadata": {
    "collapsed": false
   },
   "source": [
    "### Departamento de residencia"
   ]
  },
  {
   "cell_type": "markdown",
   "metadata": {
    "collapsed": false
   },
   "source": [
    "### Municipio de residencia"
   ]
  },
  {
   "cell_type": "markdown",
   "metadata": {
    "collapsed": false
   },
   "source": [
    "### Causa de defunción"
   ]
  },
  {
   "cell_type": "markdown",
   "metadata": {
    "collapsed": false
   },
   "source": [
    "### Asistencia recibida\n",
    "¿Cuál es el tipo de asistencia recibida predominante en las defunciones?"
   ]
  },
  {
   "cell_type": "code",
   "execution_count": null,
   "metadata": {
    "collapsed": false,
    "pycharm": {
     "name": "#%%\n"
    }
   },
   "outputs": [],
   "source": [
    "assist = calculate_frequency(deaths, 'asist')"
   ]
  },
  {
   "cell_type": "markdown",
   "metadata": {
    "collapsed": false
   },
   "source": [
    "### Sitio de ocurrencia\n",
    "¿Cuál es la proporción de personas que mueren en sus casas con respecto a las que mueren en hospitales?"
   ]
  },
  {
   "cell_type": "code",
   "execution_count": null,
   "metadata": {
    "collapsed": false,
    "pycharm": {
     "name": "#%%\n"
    }
   },
   "outputs": [],
   "source": [
    "occur = calculate_frequency(deaths, 'ocur')"
   ]
  },
  {
   "cell_type": "markdown",
   "metadata": {
    "collapsed": false
   },
   "source": [
    "### Quién certifica"
   ]
  },
  {
   "cell_type": "markdown",
   "metadata": {
    "collapsed": false
   },
   "source": [
    "### Correlación entre los datos"
   ]
  },
  {
   "cell_type": "markdown",
   "metadata": {
    "collapsed": false
   },
   "source": [
    "## Definiendo elementos clave\n",
    "Cruce las variables que considere que son las más importantes para hallar los elementos clave que lo pueden llevar a comprender lo que está causando el problema encontrado."
   ]
  },
  {
   "cell_type": "markdown",
   "metadata": {
    "collapsed": false
   },
   "source": [
    "## Estado de los datos\n",
    "Haga gráficos exploratorios que le dé ideas del estado de los datos.\n",
    "// Acá van las preguntas\n"
   ]
  },
  {
   "cell_type": "markdown",
   "metadata": {
    "collapsed": false
   },
   "source": [
    "#### ¿Cuál es la relación entre el género y la edad en cuanto a las defunciones en Guatemala? ¿Las mujeres tienden a morir más jóvenes que los hombres?\n"
   ]
  },
  {
   "cell_type": "code",
   "execution_count": null,
   "metadata": {
    "collapsed": false,
    "pycharm": {
     "name": "#%%\n"
    }
   },
   "outputs": [],
   "source": [
    "age_gender = deaths.groupby(by=['sexo', 'edad']).count()\n",
    "# Hacer gráfico de barras"
   ]
  },
  {
   "cell_type": "markdown",
   "metadata": {
    "collapsed": false
   },
   "source": [
    "#### ¿Cuál es el porcentaje de población indígena que recibe asistencia hospitalaria?"
   ]
  },
  {
   "cell_type": "code",
   "execution_count": null,
   "metadata": {
    "collapsed": false,
    "pycharm": {
     "name": "#%%\n"
    }
   },
   "outputs": [],
   "source": [
    "etnic_asist = deaths.groupby(by=['etnic', 'asist']).count()\n",
    "# Hacer pie"
   ]
  },
  {
   "cell_type": "markdown",
   "metadata": {
    "collapsed": false
   },
   "source": [
    "#### ¿Es cierto que la soledad (soltería) incrementa la probabilidad de muerte temprana?"
   ]
  },
  {
   "cell_type": "code",
   "execution_count": null,
   "metadata": {
    "collapsed": false,
    "pycharm": {
     "name": "#%%\n"
    }
   },
   "outputs": [],
   "source": [
    "lonely = deaths.groupby(by=['estado', 'edad']).count()\n",
    "# Hacer barras\n"
   ]
  },
  {
   "cell_type": "markdown",
   "metadata": {
    "collapsed": false
   },
   "source": [
    "#### ¿Cómo es la distribución de las muertes de los jóvenes entre 18-30 que tienen una escolaridad por encima de diversificado?"
   ]
  },
  {
   "cell_type": "code",
   "execution_count": null,
   "metadata": {
    "collapsed": false,
    "pycharm": {
     "name": "#%%\n"
    }
   },
   "outputs": [],
   "source": [
    "young = deaths.loc[(deaths['edad'] >= 18 & deaths['edad'] <= 30 & deaths['edad'] >= 18), ]\n",
    "# hay que sacar ahora por el parámetro de estudio\n",
    "# Hacer barras"
   ]
  },
  {
   "cell_type": "markdown",
   "metadata": {},
   "source": [
    "### ¿En qué meses se dieron la mayor cantidad de defunciones?"
   ]
  },
  {
   "cell_type": "code",
   "execution_count": 4,
   "metadata": {},
   "outputs": [
    {
     "data": {
      "text/plain": [
       "Mesocu\n",
       "Julio         73553\n",
       "Agosto        69865\n",
       "Diciembre     69332\n",
       "Octubre       68468\n",
       "Enero         68213\n",
       "Junio         67813\n",
       "Marzo         66918\n",
       "Septiembre    66696\n",
       "Mayo          66551\n",
       "Noviembre     66100\n",
       "Abril         65316\n",
       "Febrero       60471\n",
       "Name: Mesocu, dtype: int64"
      ]
     },
     "execution_count": 4,
     "metadata": {},
     "output_type": "execute_result"
    }
   ],
   "source": [
    "month = deaths.groupby([\"Mesocu\"])[\"Mesocu\"].count().sort_values(ascending=False)\n",
    "month"
   ]
  },
  {
   "cell_type": "code",
   "execution_count": 5,
   "metadata": {},
   "outputs": [
    {
     "data": {
      "image/png": "[encoded data removed]",
      "text/plain": [
       "<Figure size 432x288 with 1 Axes>"
      ]
     },
     "metadata": {
      "needs_background": "light"
     },
     "output_type": "display_data"
    }
   ],
   "source": [
    "month.plot.bar()\n",
    "del month"
   ]
  },
  {
   "cell_type": "markdown",
   "metadata": {},
   "source": [
    "#### Como se puede observar en la gráfica, los meses con mayores defunciones son: julio, agosto y diciembre"
   ]
  },
  {
   "cell_type": "markdown",
   "metadata": {},
   "source": [
    "### ¿En qué países se dieron la mayor cantidad de defunciones en los años 2019 y 2020 (pandemia)?"
   ]
  },
  {
   "cell_type": "code",
   "execution_count": 6,
   "metadata": {},
   "outputs": [
    {
     "data": {
      "text/plain": [
       "Predif\n",
       "Guatemala                    167596\n",
       "Ignorado                      16302\n",
       "Estados Unidos De América       148\n",
       "El Salvador                      37\n",
       "México                           26\n",
       "Name: Predif, dtype: int64"
      ]
     },
     "execution_count": 6,
     "metadata": {},
     "output_type": "execute_result"
    }
   ],
   "source": [
    "pandemia = pd.DataFrame(deaths.query(\"Añoreg>=2019\"))\n",
    "pandemia['Edadif'] = [-1 if year == \"Ignorado\" else year for year in pandemia[\"Edadif\"]]\n",
    "pais = pandemia.groupby([\"Predif\"])[\"Predif\"].count().sort_values(ascending=False).head()\n",
    "pais"
   ]
  },
  {
   "cell_type": "code",
   "execution_count": 7,
   "metadata": {},
   "outputs": [
    {
     "data": {
      "text/plain": [
       "<AxesSubplot:xlabel='Predif'>"
      ]
     },
     "execution_count": 7,
     "metadata": {},
     "output_type": "execute_result"
    },
    {
     "data": {
      "image/png": "[encoded data removed]",
      "text/plain": [
       "<Figure size 432x288 with 1 Axes>"
      ]
     },
     "metadata": {
      "needs_background": "light"
     },
     "output_type": "display_data"
    }
   ],
   "source": [
    "pais.plot.bar()"
   ]
  },
  {
   "cell_type": "markdown",
   "metadata": {},
   "source": [
    "#### El país con mayor defunciones es Guatemala. Cabe mencionar que este resultado se deba, principalmente, a que la mayoría de datos que se recolectaron son provenientes de Guatemala"
   ]
  },
  {
   "cell_type": "markdown",
   "metadata": {},
   "source": [
    "### Durante estos años, las personas que fallecieron tuvieron tratamiento médico? "
   ]
  },
  {
   "cell_type": "code",
   "execution_count": 8,
   "metadata": {},
   "outputs": [
    {
     "data": {
      "text/plain": [
       "Asist\n",
       "Médica        93212\n",
       "Ninguna       80592\n",
       "Ignorado       5860\n",
       "Empírica       3683\n",
       "Paramédica      671\n",
       "Comadrona       129\n",
       "Name: Asist, dtype: int64"
      ]
     },
     "execution_count": 8,
     "metadata": {},
     "output_type": "execute_result"
    }
   ],
   "source": [
    "pandemia.groupby(\"Asist\")[\"Asist\"].count().sort_values(ascending=False)"
   ]
  },
  {
   "cell_type": "markdown",
   "metadata": {},
   "source": [
    "#### Como se puede observar, la cantidad de defunciones que hubieron en estos años de pandemia y que recibieron asistencia médica fueron de 93212 muertes, luego siguen las personas que no recibieron ningún tipo de asistencia médica. Esto se puede deber a que en esos tiempo, muchas personas se enfermaban y cuando necesitaban ir a un hospital, estos se encontraban llenos y no lograban encontrar cupo."
   ]
  },
  {
   "cell_type": "markdown",
   "metadata": {},
   "source": [
    "### ¿Existe alguna relación entre el sexo y la atención recibida que tuvieron los fallecidos en los años 2011 a 2020?\n"
   ]
  },
  {
   "cell_type": "code",
   "execution_count": 30,
   "metadata": {},
   "outputs": [
    {
     "data": {
      "text/plain": [
       "Asist       Sexo  \n",
       "Ninguna     Hombre    228798\n",
       "Médica      Hombre    207723\n",
       "            Mujer     172299\n",
       "Ninguna     Mujer     169013\n",
       "Empírica    Hombre      9465\n",
       "            Mujer       8853\n",
       "Ignorado    Hombre      6777\n",
       "            Mujer       2705\n",
       "Paramédica  Hombre      1893\n",
       "            Mujer       1135\n",
       "Comadrona   Mujer        391\n",
       "            Hombre       244\n",
       "Name: Asist, dtype: int64"
      ]
     },
     "execution_count": 30,
     "metadata": {},
     "output_type": "execute_result"
    }
   ],
   "source": [
    "atencionGenero = deaths.groupby([\"Asist\",\"Sexo\"])[\"Asist\"].count().sort_values(ascending=False)\n",
    "atencionGenero"
   ]
  },
  {
   "cell_type": "code",
   "execution_count": 31,
   "metadata": {},
   "outputs": [
    {
     "data": {
      "image/png": "[encoded data removed]",
      "text/plain": [
       "<Figure size 432x288 with 1 Axes>"
      ]
     },
     "metadata": {
      "needs_background": "light"
     },
     "output_type": "display_data"
    }
   ],
   "source": [
    "atencionGenero.plot.bar()\n",
    "del atencionGenero"
   ]
  },
  {
   "cell_type": "markdown",
   "metadata": {},
   "source": [
    "#### Como se puede observar en la gráfica, no hay alguna relación entre el género y la atención recibida, por lo que no se puede concluir que el género afecte en algo hacia la atención médica que uno puede recibir. Sin embargo, se puede notar que sin importar el género, existe una gran cantidad de personas que no recibe atención médica antes de morir."
   ]
  },
  {
   "cell_type": "markdown",
   "metadata": {},
   "source": [
    "### ¿En Guatemala, en qué lugares predominan las defunciones? ¿El servicio que ofrecen los hospitales privados es mejor que el de los hospitales públicos? "
   ]
  },
  {
   "cell_type": "code",
   "execution_count": 10,
   "metadata": {},
   "outputs": [],
   "source": [
    "guatemala = pd.DataFrame(deaths.query(\"Predif=='Guatemala'\"))"
   ]
  },
  {
   "cell_type": "code",
   "execution_count": 11,
   "metadata": {},
   "outputs": [
    {
     "data": {
      "text/plain": [
       "Mredif\n",
       "Guatemala                80791\n",
       "Mixco                    21792\n",
       "Villa Nueva              16477\n",
       "Quetzaltenango           10186\n",
       "Escuintla                 9532\n",
       "San Pedro Carchá          8691\n",
       "San Juan Sacatepéquez     8587\n",
       "Cobán                     7677\n",
       "Jalapa                    7093\n",
       "Totonicapán               6781\n",
       "Name: Mredif, dtype: int64"
      ]
     },
     "execution_count": 11,
     "metadata": {},
     "output_type": "execute_result"
    }
   ],
   "source": [
    "municipios = guatemala.groupby(\"Mredif\")[\"Mredif\"].count().sort_values(ascending=False).head(10)\n",
    "municipios"
   ]
  },
  {
   "cell_type": "code",
   "execution_count": 12,
   "metadata": {},
   "outputs": [
    {
     "data": {
      "text/plain": [
       "<AxesSubplot:ylabel='Mredif'>"
      ]
     },
     "execution_count": 12,
     "metadata": {},
     "output_type": "execute_result"
    },
    {
     "data": {
      "image/png": "[encoded data removed]",
      "text/plain": [
       "<Figure size 432x288 with 1 Axes>"
      ]
     },
     "metadata": {},
     "output_type": "display_data"
    }
   ],
   "source": [
    "municipios.plot.pie()"
   ]
  },
  {
   "cell_type": "code",
   "execution_count": 13,
   "metadata": {},
   "outputs": [
    {
     "data": {
      "text/plain": [
       "Ocur\n",
       "Domicilio           429523\n",
       "Hospital público    128415\n",
       "Ignorado             37938\n",
       "Seguro social        35107\n",
       "Hospital privado     19461\n",
       "Vía pública          19401\n",
       "Otro                  7572\n",
       "Centro de salud       1566\n",
       "Lugar de trabajo        45\n",
       "Name: Ocur, dtype: int64"
      ]
     },
     "execution_count": 13,
     "metadata": {},
     "output_type": "execute_result"
    }
   ],
   "source": [
    "lugar = guatemala.groupby(\"Ocur\")[\"Ocur\"].count().sort_values(ascending=False).head(10)\n",
    "lugar"
   ]
  },
  {
   "cell_type": "code",
   "execution_count": 14,
   "metadata": {},
   "outputs": [
    {
     "data": {
      "text/plain": [
       "<AxesSubplot:ylabel='Ocur'>"
      ]
     },
     "execution_count": 14,
     "metadata": {},
     "output_type": "execute_result"
    },
    {
     "data": {
      "image/png": "[encoded data removed]",
      "text/plain": [
       "<Figure size 432x288 with 1 Axes>"
      ]
     },
     "metadata": {},
     "output_type": "display_data"
    }
   ],
   "source": [
    "lugar.plot.pie()"
   ]
  },
  {
   "cell_type": "code",
   "execution_count": 15,
   "metadata": {},
   "outputs": [],
   "source": [
    "del guatemala, lugar, municipios"
   ]
  },
  {
   "cell_type": "markdown",
   "metadata": {},
   "source": [
    "### Cómo se puede observar en las dos gráficas de pie, el municipio con mayor cantidad de defunciones es Guatemala, luego le sigue Mixco, Villa Nueva y Quetzaltenango. \n",
    "\n",
    "### Cómo se puede observar, en los hospitales públicos hubieron mayores cantidad de defunciones que en hospitales privados, lo que podría indicar que el servicio de los hospitales privados es mejor, pero como se vió en la pregunta anterior y en la siguiente pregunta, el número de personas que tiene acceso a tratamientos médicos es muy baja, por lo que no se podría concluir que los hospitales privados son mejores que los públicos debido a que la cantidad de personas que pueden ir a un hospital privado es baja"
   ]
  },
  {
   "cell_type": "markdown",
   "metadata": {},
   "source": [
    "### ¿Las personas fallecidas de 50 años o más recibieron buen tratamiento médico? ¿En qué lugares predominan sus muertes?"
   ]
  },
  {
   "cell_type": "code",
   "execution_count": 21,
   "metadata": {},
   "outputs": [],
   "source": [
    "datos2 = deaths.copy()\n",
    "datos2['Edadif'] = [-1 if year == \"Ignorado\" else int (year) for year in datos2[\"Edadif\"]]"
   ]
  },
  {
   "cell_type": "code",
   "execution_count": 23,
   "metadata": {},
   "outputs": [],
   "source": [
    "mayores = pd.DataFrame(datos2.query(\"Edadif>49\"))"
   ]
  },
  {
   "cell_type": "code",
   "execution_count": 18,
   "metadata": {},
   "outputs": [
    {
     "data": {
      "text/plain": [
       "Asist\n",
       "Ninguna       244804\n",
       "Médica        233154\n",
       "Empírica       11730\n",
       "Ignorado        3915\n",
       "Paramédica      1433\n",
       "Comadrona        138\n",
       "Name: Asist, dtype: int64"
      ]
     },
     "execution_count": 18,
     "metadata": {},
     "output_type": "execute_result"
    }
   ],
   "source": [
    "mayores.groupby(\"Asist\")[\"Asist\"].count().sort_values(ascending=False)"
   ]
  },
  {
   "cell_type": "markdown",
   "metadata": {},
   "source": [
    "### Cómo se mencionó anteriormente, aquí se puede observar que las personas mayores a los 50 años no recibieron asistencia médica a la hora de su muerte, con una cantidad de 200701 defunciones registradas para ese caso. Luego siguen las defunciones que sí recibieron asistencia médica, con un valor de 196730."
   ]
  },
  {
   "cell_type": "code",
   "execution_count": 24,
   "metadata": {},
   "outputs": [],
   "source": [
    "del mayores, datos2"
   ]
  },
  {
   "cell_type": "markdown",
   "metadata": {},
   "source": [
    "### ¿Quienes fueron las personas que más certificaron durante los años 2015 a 2020?"
   ]
  },
  {
   "cell_type": "code",
   "execution_count": 25,
   "metadata": {},
   "outputs": [],
   "source": [
    "datos2 = pd.DataFrame(deaths.query(\"Añoreg>2014\"))"
   ]
  },
  {
   "cell_type": "code",
   "execution_count": 26,
   "metadata": {},
   "outputs": [
    {
     "data": {
      "text/plain": [
       "Cerdef\n",
       "Médico        293734\n",
       "Ignorado      213060\n",
       "Autoridad       2915\n",
       "Paramédico      2128\n",
       "Name: Cerdef, dtype: int64"
      ]
     },
     "execution_count": 26,
     "metadata": {},
     "output_type": "execute_result"
    }
   ],
   "source": [
    "cert = datos2.groupby(\"Cerdef\")[\"Cerdef\"].count().sort_values(ascending=False)\n",
    "cert"
   ]
  },
  {
   "cell_type": "code",
   "execution_count": 27,
   "metadata": {},
   "outputs": [
    {
     "data": {
      "text/plain": [
       "<AxesSubplot:xlabel='Cerdef'>"
      ]
     },
     "execution_count": 27,
     "metadata": {},
     "output_type": "execute_result"
    },
    {
     "data": {
      "image/png": "[encoded data removed]",
      "text/plain": [
       "<Figure size 432x288 with 1 Axes>"
      ]
     },
     "metadata": {
      "needs_background": "light"
     },
     "output_type": "display_data"
    }
   ],
   "source": [
    "cert.plot.bar()"
   ]
  },
  {
   "cell_type": "code",
   "execution_count": 28,
   "metadata": {},
   "outputs": [],
   "source": [
    "del datos2"
   ]
  },
  {
   "cell_type": "markdown",
   "metadata": {},
   "source": [
    "### Como se puede observar en la gráfica de arriba, las personas que mayor certificaron son los médico, seguidos por los que se registraron como \"ignorados\"."
   ]
  },
  {
   "cell_type": "markdown",
   "metadata": {
    "collapsed": false,
    "pycharm": {
     "name": "#%% md\n"
    }
   },
   "source": [
    "## Agrupamiento\n",
    "Haga un agrupamiento (clustering) e interprete los resultados."
   ]
  },
  {
   "cell_type": "markdown",
   "metadata": {
    "collapsed": false
   },
   "source": [
    "# Análisis de resultados\n",
    "\n",
    "## Situación problemática\n",
    "Describa la situación problemática que lo lleva a acotar un problema a resolver.\n"
   ]
  },
  {
   "cell_type": "markdown",
   "metadata": {
    "collapsed": false
   },
   "source": [
    "## Problema científico\n",
    "Enuncie un problema científico y unos objetivos preliminares."
   ]
  },
  {
   "cell_type": "markdown",
   "metadata": {
    "collapsed": false
   },
   "source": [
    "## ¿Qué se tiene para responder el problema?\n",
    "Describa los datos que tiene para responder el problema planteado. Esto incluye el estado en que encontró el o los conjuntos de datos y las operaciones de limpieza que le realizó, en caso de que hayan sido necesarias."
   ]
  },
  {
   "cell_type": "markdown",
   "metadata": {
    "collapsed": false
   },
   "source": [
    "## Conclusiones\n",
    "Escriba unas conclusiones con los hallazgos encontrados durante el análisis exploratorio"
   ]
  }
 ],
 "metadata": {
  "kernelspec": {
   "display_name": "Python 3",
   "language": "python",
   "name": "python3"
  },
  "language_info": {
   "codemirror_mode": {
    "name": "ipython",
    "version": 3
   },
   "file_extension": ".py",
   "mimetype": "text/x-python",
   "name": "python",
   "nbconvert_exporter": "python",
   "pygments_lexer": "ipython3",
   "version": "3.9.6"
  }
 },
 "nbformat": 4,
 "nbformat_minor": 0
}
